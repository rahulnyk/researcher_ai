{
 "cells": [
  {
   "cell_type": "code",
   "execution_count": 1,
   "metadata": {},
   "outputs": [],
   "source": [
    "from dotenv import load_dotenv\n",
    "\n",
    "load_dotenv(\".env\")\n",
    "\n",
    "import os\n",
    "import sys\n",
    "import glob\n",
    "from pathlib import Path\n",
    "import pandas as pd\n",
    "import numpy as np\n",
    "\n",
    "sys.path.append(\"\")\n",
    "\n",
    "##\n",
    "# import openai\n",
    "text_embedding_model = \"text-embedding-ada-002\"\n",
    "# from openai.embeddings_utils import get_embedding"
   ]
  },
  {
   "cell_type": "code",
   "execution_count": 2,
   "metadata": {},
   "outputs": [],
   "source": [
    "# import langchain\n",
    "## For generating and persisting Embeddings\n",
    "from langchain.embeddings.openai import OpenAIEmbeddings\n",
    "from langchain.vectorstores.pgvector import PGVector\n",
    "from langchain.vectorstores import Neo4jVector\n",
    "\n",
    "# "
   ]
  },
  {
   "cell_type": "code",
   "execution_count": 3,
   "metadata": {},
   "outputs": [],
   "source": [
    "from langchain.document_loaders import PyPDFLoader, UnstructuredPDFLoader, PyPDFium2Loader\n",
    "from langchain.document_loaders import PyPDFDirectoryLoader, DirectoryLoader\n",
    "from langchain.text_splitter import RecursiveCharacterTextSplitter\n",
    "\n"
   ]
  },
  {
   "cell_type": "markdown",
   "metadata": {},
   "source": [
    "## Neo4j Connection"
   ]
  },
  {
   "cell_type": "code",
   "execution_count": 4,
   "metadata": {},
   "outputs": [
    {
     "name": "stdout",
     "output_type": "stream",
     "text": [
      "Number of chunks =  1154\n"
     ]
    }
   ],
   "source": [
    "index_name = \"documents\"\n",
    "rebuild = True\n",
    "\n",
    "if rebuild:\n",
    "    filepath = \"./data/CompaniesAct2013.pdf\"\n",
    "    loader = PyPDFLoader(filepath)\n",
    "    documents = loader.load()\n",
    "\n",
    "    splitter = RecursiveCharacterTextSplitter(\n",
    "        chunk_size=1100,\n",
    "        chunk_overlap=150,\n",
    "        length_function=len,\n",
    "        is_separator_regex=False,\n",
    "    )\n",
    "\n",
    "    pages = splitter.split_documents(documents)\n",
    "\n",
    "    print(\"Number of chunks = \", len(pages))\n",
    "\n",
    "    index = Neo4jVector.from_documents(\n",
    "        pages,\n",
    "        OpenAIEmbeddings(),\n",
    "        url=os.environ[\"NEO4J_URI\"],\n",
    "        username=os.environ[\"NEO4J_USERNAME\"],\n",
    "        password=os.environ[\"NEO4J_PASSWORD\"],\n",
    "        index_name=index_name,  # vector by default\n",
    "        node_label=\"Chunk\",  # Chunk by default\n",
    "        text_node_property=\"text\",  # text by default\n",
    "        embedding_node_property=\"embedding\",  # embedding by default\n",
    "        create_id_index=True,  # True by default\n",
    "    )\n",
    "else:\n",
    "    index = Neo4jVector.from_existing_index(\n",
    "        OpenAIEmbeddings(),\n",
    "        url=os.environ[\"NEO4J_URI\"],\n",
    "        username=os.environ[\"NEO4J_USERNAME\"],\n",
    "        password=os.environ[\"NEO4J_PASSWORD\"],\n",
    "        index_name=index_name,\n",
    "        text_node_property=\"text\",  # Need to define if it is not default\n",
    "    )"
   ]
  },
  {
   "cell_type": "code",
   "execution_count": 5,
   "metadata": {},
   "outputs": [],
   "source": [
    "from neo4j import GraphDatabase\n",
    "\n",
    "AUTH = (os.environ['NEO4J_USERNAME'], os.environ['NEO4J_PASSWORD'])\n",
    "\n",
    "with GraphDatabase.driver(os.environ['NEO4J_URI'], auth=AUTH) as driver:\n",
    "    driver.verify_connectivity()\n",
    "\n"
   ]
  },
  {
   "cell_type": "markdown",
   "metadata": {},
   "source": [
    "## Test the index"
   ]
  },
  {
   "cell_type": "code",
   "execution_count": 6,
   "metadata": {},
   "outputs": [
    {
     "data": {
      "text/plain": [
       "10"
      ]
     },
     "execution_count": 6,
     "metadata": {},
     "output_type": "execute_result"
    }
   ],
   "source": [
    "input = \"How to close a company\"\n",
    "\n",
    "from openai import OpenAI\n",
    "\n",
    "client = OpenAI()\n",
    "response = client.embeddings.create(\n",
    "            input=input,\n",
    "            model=\"text-embedding-ada-002\"\n",
    "        )\n",
    "\n",
    "embedding = response.data[0].embedding\n",
    "\n",
    "\n",
    "query = \"\"\"\n",
    "CALL db.index.vector.queryNodes($collection, 10, $embedding)\n",
    "YIELD node AS chunks, score\n",
    "\"\"\"\n",
    "with GraphDatabase.driver(os.environ['NEO4J_URI'], auth=AUTH) as driver:\n",
    "    records, summary, keys = driver.execute_query(\n",
    "        query,\n",
    "        {'embedding': embedding, 'collection': index_name},\n",
    "        database_=\"neo4j\",\n",
    "    )\n",
    "\n",
    "len(records)"
   ]
  },
  {
   "cell_type": "markdown",
   "metadata": {},
   "source": [
    "## Testing the Neo4j Retriever"
   ]
  },
  {
   "cell_type": "code",
   "execution_count": 1,
   "metadata": {},
   "outputs": [],
   "source": [
    "import os\n",
    "from agent.retrievers.neo4j_retriever import Neo4jRetriever\n",
    "\n",
    "ret = Neo4jRetriever(\n",
    "    conn_params={\n",
    "        \"username\": os.environ[\"NEO4J_USERNAME\"],\n",
    "        \"password\": os.environ[\"NEO4J_PASSWORD\"],\n",
    "        \"uri\": os.environ[\"NEO4J_URI\"],\n",
    "    },\n",
    "    collection='documents'\n",
    ")\n"
   ]
  },
  {
   "cell_type": "code",
   "execution_count": 2,
   "metadata": {},
   "outputs": [],
   "source": [
    "records = ret.get_docs(\"How can I close the company?\", {'num_docs': 6})"
   ]
  },
  {
   "cell_type": "code",
   "execution_count": 4,
   "metadata": {},
   "outputs": [
    {
     "data": {
      "text/plain": [
       "{'page': 14,\n",
       " 'source': './data/CompaniesAct2013.pdf',\n",
       " 'id': 'aaa59050-9c06-11ee-8f1a-bedec676b353'}"
      ]
     },
     "execution_count": 4,
     "metadata": {},
     "output_type": "execute_result"
    }
   ],
   "source": [
    "records[0].metadata"
   ]
  },
  {
   "cell_type": "code",
   "execution_count": null,
   "metadata": {},
   "outputs": [],
   "source": []
  }
 ],
 "metadata": {
  "kernelspec": {
   "display_name": ".venv",
   "language": "python",
   "name": "python3"
  },
  "language_info": {
   "codemirror_mode": {
    "name": "ipython",
    "version": 3
   },
   "file_extension": ".py",
   "mimetype": "text/x-python",
   "name": "python",
   "nbconvert_exporter": "python",
   "pygments_lexer": "ipython3",
   "version": "3.11.4"
  }
 },
 "nbformat": 4,
 "nbformat_minor": 2
}
