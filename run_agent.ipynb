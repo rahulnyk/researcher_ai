{
 "cells": [
  {
   "cell_type": "code",
   "execution_count": 1,
   "metadata": {},
   "outputs": [],
   "source": [
    "from dotenv import load_dotenv\n",
    "load_dotenv(\"../.env\")\n",
    "import os\n",
    "from agent.agent import Agent"
   ]
  },
  {
   "cell_type": "code",
   "execution_count": 2,
   "metadata": {},
   "outputs": [],
   "source": [
    "## PG Retriever\n",
    "from agent.retrievers.pg_retriever import PGRetriever\n",
    "DB_PASSWORD = os.environ[\"SUPABASE_PASSWORD\"]\n",
    "DB_DBUSER = os.environ[\"SUPABASE_DBUSER\"]\n",
    "DB_DATABASE = os.environ[\"SUPABASE_DATABASE\"]\n",
    "DB_HOST = os.environ[\"SUPABASE_HOST\"]\n",
    "DB_PORT = os.environ[\"SUPABASE_PORT\"]\n",
    "\n",
    "DB_CONN_STRING = (\n",
    "    f\"postgresql://{DB_DBUSER}:{DB_PASSWORD}@{DB_HOST}:{DB_PORT}/{DB_DATABASE}\"\n",
    ")\n",
    "\n",
    "collection = 'legal_docs'\n",
    "pg_retriever = PGRetriever(conn_params=DB_CONN_STRING, collection=collection)\n",
    "# collection = 'mahabharata'\n"
   ]
  },
  {
   "cell_type": "code",
   "execution_count": 3,
   "metadata": {},
   "outputs": [],
   "source": [
    "# Neo4j Retriever\n",
    "from agent.retrievers.neo4j_retriever import Neo4jRetriever\n",
    "\n",
    "neo4j_retriever = Neo4jRetriever(\n",
    "    conn_params={\n",
    "        \"username\": os.environ[\"NEO4J_USERNAME\"],\n",
    "        \"password\": os.environ[\"NEO4J_PASSWORD\"],\n",
    "        \"uri\": os.environ[\"NEO4J_URI\"],\n",
    "    },\n",
    "    collection='documents'\n",
    ")"
   ]
  },
  {
   "cell_type": "markdown",
   "metadata": {},
   "source": [
    "## Run the Agent"
   ]
  },
  {
   "cell_type": "code",
   "execution_count": 4,
   "metadata": {},
   "outputs": [
    {
     "name": "stderr",
     "output_type": "stream",
     "text": [
      "\u001b[92m\u001b[39m\n",
      "\u001b[92m▶︎ AGENT LOG - 2023-12-29 11:12:53 - INFO \u001b[39m\n",
      "\u001b[92mGoal:  Explain in detail the process for closing a private limited company?\u001b[39m\n",
      "\u001b[92m\u001b[39m\n",
      "\u001b[33m\u001b[39m\n",
      "\u001b[33m▶︎ ACTIONS LOG - 2023-12-29 11:12:53 - INFO \u001b[39m\n",
      "\u001b[33m\n",
      "╰─➤ Initial Hypothesis ▷▶\n",
      "\u001b[39m\n",
      "\u001b[33m\u001b[39m\n"
     ]
    },
    {
     "name": "stdout",
     "output_type": "stream",
     "text": [
      " Concepts:\n",
      "1. Private limited company\n",
      "2. Closing a company\n",
      "3. Process\n",
      "\n",
      "Context:\n",
      "To understand the process for closing a private limited company, it is essential to know about:\n",
      "- Legal requirements for dissolving a company\n",
      "- Procedure for paying off debts and liabilities\n",
      "- Notice of intention to strike off and how long this period lasts\n",
      "- Any outstanding tax issues or filings\n",
      "- Procedures for distributing assets among shareholders"
     ]
    },
    {
     "name": "stderr",
     "output_type": "stream",
     "text": [
      "INFO:httpx:HTTP Request: POST https://api.openai.com/v1/embeddings \"HTTP/1.1 200 OK\"\n",
      "\u001b[92m\u001b[39m\n",
      "\u001b[92m▶︎ AGENT LOG - 2023-12-29 11:13:05 - INFO \u001b[39m\n",
      "\u001b[92m\n",
      "Initial Answer:\u001b[39m\n",
      "\u001b[92m\u001b[39m\n",
      "\u001b[33m\u001b[39m\n",
      "\u001b[33m▶︎ ACTIONS LOG - 2023-12-29 11:13:05 - INFO \u001b[39m\n",
      "\u001b[33m\n",
      "[0]\n",
      "╰─➤ Answer ▷▶\n",
      "\u001b[39m\n",
      "\u001b[33m\u001b[39m\n"
     ]
    },
    {
     "name": "stdout",
     "output_type": "stream",
     "text": [
      " Closing a private limited company involves several steps, including:\n",
      "\n",
      "1. Deciding on the winding up method: The shareholders or directors must decide whether to close the company through voluntary or compulsory liquidation.\n",
      "2. Appointing a liquidator: If the company chooses voluntary winding up, an insolvency practitioner or licensed liquidator should be appointed by either the company's members or creditors. In a compulsory winding up, the court appoints the liquidator.\n",
      "3. Preparing a statement of affairs: The liquidator must create a statement that includes the company's assets and liabilities at the time of winding-up.\n",
      "4. Distributing assets: The liquidator should distribute the remaining assets to the creditors based on their priority, which usually involves repaying secured creditors first, followed by unsecured creditors, and lastly, shareholders.\n",
      "5. Dissolving the company: Once all assets have been distributed, and any claims settled, the liquidator will file a final report with the relevant authorities, allowing the company to be removed from the registry.\n",
      "6. Cancelling share certificates: Shareholders should return their share certificates to the company or the liquidator for cancellation.\n",
      "7. Notifying interested parties: The company should notify all employees, suppliers, and customers of its closure, as well as update any business licenses and registrations.\n",
      "8. Paying any remaining taxes or fees: Ensure that all outstanding tax liabilities have been settled and close any necessary accounts with government agencies or other relevant authorities."
     ]
    },
    {
     "name": "stderr",
     "output_type": "stream",
     "text": [
      "\u001b[33m\u001b[39m\n",
      "\u001b[33m▶︎ ACTIONS LOG - 2023-12-29 11:13:31 - INFO \u001b[39m\n",
      "\u001b[33m\n",
      "[1]\n",
      "╰─➤ Ask more questions based on new context ▷▶\n",
      "\u001b[39m\n",
      "\u001b[33m\u001b[39m\n"
     ]
    },
    {
     "name": "stdout",
     "output_type": "stream",
     "text": [
      " ['What are the legal requirements for dissolving a company?', 'How does one go about paying off debts and liabilities when closing a private limited company?', 'How long is the notice of intention to strike off period and what is its purpose in the process?']"
     ]
    },
    {
     "name": "stderr",
     "output_type": "stream",
     "text": [
      "\u001b[33m\u001b[39m\n",
      "\u001b[33m▶︎ ACTIONS LOG - 2023-12-29 11:13:38 - INFO \u001b[39m\n",
      "\u001b[33m\n",
      "[1]\n",
      "╰─➤ Next Question I must ask ▷▶\n",
      "\u001b[39m\n",
      "\u001b[33m\u001b[39m\n"
     ]
    },
    {
     "name": "stdout",
     "output_type": "stream",
     "text": [
      " 1. 'What are the legal requirements for dissolving a company?'"
     ]
    },
    {
     "name": "stderr",
     "output_type": "stream",
     "text": [
      "INFO:httpx:HTTP Request: POST https://api.openai.com/v1/embeddings \"HTTP/1.1 200 OK\"\n",
      "\u001b[33m\u001b[39m\n",
      "\u001b[33m▶︎ ACTIONS LOG - 2023-12-29 11:13:41 - INFO \u001b[39m\n",
      "\u001b[33m\n",
      "[1]\n",
      "╰─➤ Answer ▷▶\n",
      "\u001b[39m\n",
      "\u001b[33m\u001b[39m\n"
     ]
    },
    {
     "name": "stdout",
     "output_type": "stream",
     "text": [
      " To dissolve a company, the following legal requirements must be met:\n",
      "\n",
      "1. Complete winding up of affairs: The company must complete the process of winding up its business and settling all liabilities.\n",
      "\n",
      "2. Company Liquidator's application to Tribunal: The Company Liquidator must make an application to the Tribunal for dissolution, based on the completed winding up.\n",
      "\n",
      "3. Tribunal's order for dissolution: The Tribunal may pass an order for dissolution if it is just and reasonable in the circumstances of the case.\n",
      "\n",
      "4. Forwarding a copy of the order: Within thirty days from the date of the order, the Company Liquidator must forward a copy to the Registrar.\n",
      "\n",
      "5. Recording the dissolution in the register: The Registrar shall publish a notice in the Official Gazette and strike off the company's name from the register if no cause to the contrary is shown. Upon publication, the company will stand dissolved."
     ]
    },
    {
     "name": "stderr",
     "output_type": "stream",
     "text": [
      "\u001b[33m\u001b[39m\n",
      "\u001b[33m▶︎ ACTIONS LOG - 2023-12-29 11:13:58 - INFO \u001b[39m\n",
      "\u001b[33m\n",
      "[1]\n",
      "╰─➤ Refining the existing answer ▷▶\n",
      "\u001b[39m\n",
      "\u001b[33m\u001b[39m\n"
     ]
    },
    {
     "name": "stdout",
     "output_type": "stream",
     "text": [
      " Closing a private limited company involves several steps, including:\n",
      "\n",
      "1. Deciding on the winding up method: The shareholders or directors must decide whether to close the company through voluntary or compulsory liquidation.\n",
      "2. Appointing a liquidator: If the company chooses voluntary winding up, an insolvency practitioner or licensed liquidator should be appointed by either the company's members or creditors. In a compulsory winding up, the court appoints the liquidator.\n",
      "3. Preparing a statement of affairs: The liquidator must create a statement that includes the company's assets and liabilities at the time of winding-up.\n",
      "4. Distributing assets: The liquidator should distribute the remaining assets to the creditors based on their priority, which usually involves repaying secured creditors first, followed by unsecured creditors, and lastly, shareholders.\n",
      "5. Completing winding up of affairs: The company must complete the process of winding up its business and settling all liabilities before dissolution.\n",
      "6. Company Liquidator's application to Tribunal: The Company Liquidator must make an application to the Tribunal for dissolution, based on the completed winding up.\n",
      "7. Tribunal's order for dissolution: The Tribunal may pass an order for dissolution if it is just and reasonable in the circumstances of the case.\n",
      "8. Forwarding a copy of the order: Within thirty days from the date of the order, the Company Liquidator must forward a copy to the Registrar.\n",
      "9. Recording the dissolution in the register: The Registrar shall publish a notice in the Official Gazette and strike off the company's name from the register if no cause to the contrary is shown. Upon publication, the company will stand dissolved."
     ]
    },
    {
     "name": "stderr",
     "output_type": "stream",
     "text": [
      "\u001b[33m\u001b[39m\n",
      "\u001b[33m▶︎ ACTIONS LOG - 2023-12-29 11:14:14 - INFO \u001b[39m\n",
      "\u001b[33m\n",
      "[2]\n",
      "╰─➤ Ask more questions based on new context ▷▶\n",
      "\u001b[39m\n",
      "\u001b[33m\u001b[39m\n"
     ]
    },
    {
     "name": "stdout",
     "output_type": "stream",
     "text": [
      " ['How does one ensure all outstanding tax issues or filings are addressed during the closing process of a private limited company?',\n",
      "'What procedures should be in place for distributing assets among shareholders when closing a private limited company?',\n",
      "'What role do Company Liquidators play in the overall process of closing a private limited company?']"
     ]
    },
    {
     "name": "stderr",
     "output_type": "stream",
     "text": [
      "\u001b[33m\u001b[39m\n",
      "\u001b[33m▶︎ ACTIONS LOG - 2023-12-29 11:14:22 - INFO \u001b[39m\n",
      "\u001b[33m\n",
      "[2]\n",
      "╰─➤ Next Question I must ask ▷▶\n",
      "\u001b[39m\n",
      "\u001b[33m\u001b[39m\n"
     ]
    },
    {
     "name": "stdout",
     "output_type": "stream",
     "text": [
      " 2. How does one go about paying off debts and liabilities when closing a private limited company?"
     ]
    },
    {
     "name": "stderr",
     "output_type": "stream",
     "text": [
      "INFO:httpx:HTTP Request: POST https://api.openai.com/v1/embeddings \"HTTP/1.1 200 OK\"\n",
      "\u001b[33m\u001b[39m\n",
      "\u001b[33m▶︎ ACTIONS LOG - 2023-12-29 11:14:25 - INFO \u001b[39m\n",
      "\u001b[33m\n",
      "[2]\n",
      "╰─➤ Answer ▷▶\n",
      "\u001b[39m\n",
      "\u001b[33m\u001b[39m\n"
     ]
    },
    {
     "name": "stdout",
     "output_type": "stream",
     "text": [
      " To pay off debts and liabilities when closing a private limited company, the following steps should be taken:\n",
      "\n",
      "1. Retain sufficient funds for winding up costs and expenses.\n",
      "2. Disburse debts in order of priority, as prescribed by law.\n",
      "3. In case of distrained goods or effects, apply the debt-priority first charge on them or their sale proceeds.\n",
      "4. Call on contributories for payment to cover any remaining debts and liabilities, if necessary.\n",
      "5. Adjust rights among members in respect of any debt or liability before paying or contributing towards them.\n",
      "6. Pay or contribute to the costs, charges, and expenses of winding up the company in relation to those debts or liabilities.\n",
      "7. Ensure that every contributory is liable to contribute to the assets of the company during the course of the winding up for all sums due in respect of their liability.\n",
      "8. In case of death or insolvency, apply legal provisions with respect to the deceased or insolvent contributories' legal representatives or assignees."
     ]
    },
    {
     "name": "stderr",
     "output_type": "stream",
     "text": [
      "\u001b[33m\u001b[39m\n",
      "\u001b[33m▶︎ ACTIONS LOG - 2023-12-29 11:14:42 - INFO \u001b[39m\n",
      "\u001b[33m\n",
      "[2]\n",
      "╰─➤ Refining the existing answer ▷▶\n",
      "\u001b[39m\n",
      "\u001b[33m\u001b[39m\n"
     ]
    },
    {
     "name": "stdout",
     "output_type": "stream",
     "text": [
      " Closing a private limited company involves several steps, including:\n",
      "\n",
      "1. Deciding on the winding up method: The shareholders or directors must decide whether to close the company through voluntary or compulsory liquidation. This choice is important because it determines who will oversee the dissolution process.\n",
      "\n",
      "2. Appointing a liquidator: If the company chooses voluntary winding up, an insolvency practitioner or licensed liquidator should be appointed by either the company's members or creditors. In a compulsory winding up, the court appoints the liquidator. The liquidator is responsible for ensuring that all debts and liabilities are paid off in accordance with the law.\n",
      "\n",
      "3. Preparing a statement of affairs: The liquidator must create a statement that includes the company's assets and liabilities at the time of winding-up. This statement helps to ensure that all creditors and shareholders are treated fairly during the process.\n",
      "\n",
      "4. Distributing assets: The liquidator should distribute the remaining assets to the creditors based on their priority, which usually involves repaying secured creditors first, followed by unsecured creditors, and lastly, shareholders. This ensures that all debts are paid off before any assets are distributed among the shareholders.\n",
      "\n",
      "5. Completing winding up of affairs: The company must complete the process of winding up its business and settling all liabilities before dissolution. This may include disposing of any remaining inventory or property, canceling contracts and leases, and notifying clients and customers of the impending closure.\n",
      "\n",
      "6. Company Liquidator's application to Tribunal: The Company Liquidator must make an application to the Tribunal for dissolution, based on the completed winding up.\n",
      "\n",
      "7. Tribunal's order for dissolution: The Tribunal may pass an order for dissolution if it is just and reasonable in the circumstances of the case.\n",
      "\n",
      "8. Forwarding a copy of the order: Within thirty days from the date of the order, the Company Liquidator must forward a copy to the Registrar.\n",
      "\n",
      "9. Recording the dissolution in the register: The Registrar shall publish a notice in the Official Gazette and strike off the company's name from the register if no cause to the contrary is shown. Upon publication, the company will stand dissolved."
     ]
    },
    {
     "name": "stderr",
     "output_type": "stream",
     "text": [
      "\u001b[33m\u001b[39m\n",
      "\u001b[33m▶︎ ACTIONS LOG - 2023-12-29 11:15:03 - INFO \u001b[39m\n",
      "\u001b[33m\n",
      "[3]\n",
      "╰─➤ Ask more questions based on new context ▷▶\n",
      "\u001b[39m\n",
      "\u001b[33m\u001b[39m\n"
     ]
    },
    {
     "name": "stdout",
     "output_type": "stream",
     "text": [
      " ['What is the difference between voluntary and compulsory liquidation when closing a private limited company?',\n",
      "'Who has the authority to appoint a liquidator in each type of winding-up process?',\n",
      "'What is the role of shareholders or members during the distribution of assets among creditors and shareholders?'"
     ]
    },
    {
     "name": "stderr",
     "output_type": "stream",
     "text": [
      "\u001b[31m\u001b[39m\n",
      "\u001b[31m▶︎ ACTIONS ERRORS - 2023-12-29 11:15:11 - ERROR \u001b[39m\n",
      "\u001b[31m\n",
      "###\n",
      "Could not parse question list \n",
      "Retrying...\n",
      "###\n",
      "\u001b[39m\n",
      "\u001b[31m\u001b[39m\n"
     ]
    },
    {
     "name": "stdout",
     "output_type": "stream",
     "text": [
      " ['What are the legal requirements for dissolving a company?', 'How does one ensure all outstanding tax issues or filings are addressed during the closing process of a private limited company?', 'What role do Company Liquidators play in the overall process of closing a private limited company?']"
     ]
    },
    {
     "name": "stderr",
     "output_type": "stream",
     "text": [
      "\u001b[33m\u001b[39m\n",
      "\u001b[33m▶︎ ACTIONS LOG - 2023-12-29 11:15:19 - INFO \u001b[39m\n",
      "\u001b[33m\n",
      "[3]\n",
      "╰─➤ Next Question I must ask ▷▶\n",
      "\u001b[39m\n",
      "\u001b[33m\u001b[39m\n"
     ]
    },
    {
     "name": "stdout",
     "output_type": "stream",
     "text": [
      " 3. 'How long is the notice of intention to strike off period and what is its purpose in the process?',"
     ]
    },
    {
     "name": "stderr",
     "output_type": "stream",
     "text": [
      "INFO:httpx:HTTP Request: POST https://api.openai.com/v1/embeddings \"HTTP/1.1 200 OK\"\n",
      "\u001b[33m\u001b[39m\n",
      "\u001b[33m▶︎ ACTIONS LOG - 2023-12-29 11:15:23 - INFO \u001b[39m\n",
      "\u001b[33m\n",
      "[3]\n",
      "╰─➤ Answer ▷▶\n",
      "\u001b[39m\n",
      "\u001b[33m\u001b[39m\n"
     ]
    },
    {
     "name": "stdout",
     "output_type": "stream",
     "text": [
      " The notice of intention to strike off period is 30 days, as mentioned in the source text. During this period, the Registrar may, unless cause to the contrary is shown by the company, strike off its name from the register of companies and publish a notice thereof in the Official Gazette. If the company is not dissolved within this time frame, it will stand dissolved."
     ]
    },
    {
     "name": "stderr",
     "output_type": "stream",
     "text": [
      "\u001b[33m\u001b[39m\n",
      "\u001b[33m▶︎ ACTIONS LOG - 2023-12-29 11:15:34 - INFO \u001b[39m\n",
      "\u001b[33m\n",
      "[3]\n",
      "╰─➤ Refining the existing answer ▷▶\n",
      "\u001b[39m\n",
      "\u001b[33m\u001b[39m\n"
     ]
    },
    {
     "name": "stdout",
     "output_type": "stream",
     "text": [
      " Closing a private limited company involves several steps, including:\n",
      "\n",
      "1. Deciding on the winding up method: The shareholders or directors must decide whether to close the company through voluntary or compulsory liquidation. This choice is important because it determines who will oversee the dissolution process.\n",
      "\n",
      "2. Appointing a liquidator: If the company chooses voluntary winding up, an insolvency practitioner or licensed liquidator should be appointed by either the company's members or creditors. In a compulsory winding up, the court appoints the liquidator. The liquidator is responsible for ensuring that all debts and liabilities are paid off in accordance with the law.\n",
      "\n",
      "3. Preparing a statement of affairs: The liquidator must create a statement that includes the company's assets and liabilities at the time of winding-up. This statement helps to ensure that all creditors and shareholders are treated fairly during the process.\n",
      "\n",
      "4. Distributing assets: The liquidator should distribute the remaining assets to the creditors based on their priority, which usually involves repaying secured creditors first, followed by unsecured credititors, and lastly, shareholders. This ensures that all debts are paid off before any assets are distributed among the shareholders.\n",
      "\n",
      "5. Completing winding up of affairs: The company must complete the process of winding up its business and settling all liabilities before dissolution. This may include disposing of any remaining inventory or property, canceling contracts and leases, and notifying clients and customers of the impending closure.\n",
      "\n",
      "6. Company Liquidator's application to Tribunal: The Company Liquidator must make an application to the Tribunal for dissolution, based on the completed winding up.\n",
      "\n",
      "7. Tribunal's order for dissolution: The Tribunal may pass an order for dissolution if it is just and reasonable in the circumstances of the case.\n",
      "\n",
      "8. Forwarding a copy of the order: Within thirty days from the date of the order, the Company Liquidator must forward a copy to the Registrar.\n",
      "\n",
      "9. Recording the dissolution in the register: The Registrar shall publish a notice in the Official Gazette and strike off the company's name from the register if no cause to the contrary is shown. Upon publication, the company will stand dissolved. \n",
      "\n",
      "In addition, it is worth noting that during the 30-day notice period, if the company is not dissolved, it will automatically be dissolved after this time frame."
     ]
    },
    {
     "name": "stderr",
     "output_type": "stream",
     "text": [
      "\u001b[33m\u001b[39m\n",
      "\u001b[33m▶︎ ACTIONS LOG - 2023-12-29 11:15:56 - INFO \u001b[39m\n",
      "\u001b[33m\n",
      "[4]\n",
      "╰─➤ Ask more questions based on new context ▷▶\n",
      "\u001b[39m\n",
      "\u001b[33m\u001b[39m\n"
     ]
    },
    {
     "name": "stdout",
     "output_type": "stream",
     "text": [
      " [\n",
      " 'What role do Company Liquidators play in the overall process of closing a private limited company?',\n",
      " 'How does one ensure all outstanding tax issues or filings are addressed during the closing process of a private limited company?',\n",
      " 'What procedures should be in place for distributing assets among shareholders when closing a private limited company?'\n",
      "]"
     ]
    },
    {
     "name": "stderr",
     "output_type": "stream",
     "text": [
      "\u001b[33m\u001b[39m\n",
      "\u001b[33m▶︎ ACTIONS LOG - 2023-12-29 11:16:05 - INFO \u001b[39m\n",
      "\u001b[33m\n",
      "[4]\n",
      "╰─➤ Next Question I must ask ▷▶\n",
      "\u001b[39m\n",
      "\u001b[33m\u001b[39m\n"
     ]
    },
    {
     "name": "stdout",
     "output_type": "stream",
     "text": [
      " 4. 'How does one ensure all outstanding tax issues or filings are addressed during the closing process of a private limited company?'"
     ]
    },
    {
     "name": "stderr",
     "output_type": "stream",
     "text": [
      "INFO:httpx:HTTP Request: POST https://api.openai.com/v1/embeddings \"HTTP/1.1 200 OK\"\n",
      "\u001b[33m\u001b[39m\n",
      "\u001b[33m▶︎ ACTIONS LOG - 2023-12-29 11:16:09 - INFO \u001b[39m\n",
      "\u001b[33m\n",
      "[4]\n",
      "╰─➤ Answer ▷▶\n",
      "\u001b[39m\n",
      "\u001b[33m\u001b[39m\n"
     ]
    },
    {
     "name": "stdout",
     "output_type": "stream",
     "text": [
      " To ensure all outstanding tax issues or filings are addressed during the closing process of a private limited company, one should follow these steps:\n",
      "\n",
      "1. Review and update all financial records: Go through the company's books and records to verify that all transactions have been accurately recorded, and ensure that any outstanding taxes or tax-related matters have been properly accounted for in the financial statements.\n",
      "\n",
      "2. File necessary tax returns: Ensure that all required tax returns have been filed with the appropriate tax authorities, such as income tax, GST, and other relevant taxes. If there are any overdue filings, submit them immediately.\n",
      "\n",
      "3. Check for outstanding payments or penalties: Review any outstanding taxes, penalties, or interest charges due to be paid to the tax authorities. Ensure that these obligations have been settled in full before proceeding with the closing process.\n",
      "\n",
      "4. Engage an auditor or accountant: If necessary, hire a professional to conduct an audit of the company's financial records and tax filings to ensure they are accurate and up-to-date, and to identify any potential issues that may need resolution before closing.\n",
      "\n",
      "5. Obtain tax clearance certificates: Depending on the jurisdiction, a private limited company may be required to obtain a tax clearance certificate from the relevant tax authorities before proceeding with its closure. This certificate will confirm that all outstanding taxes and related filings have been settled.\n",
      "\n",
      "6. Prepare closing documents and statements: Draft all necessary documents and statements for the closing process, including an annual return containing the required information as per the Companies Act 2013. These should be certified by a chartered accountant or company secretary in practice to ensure compliance with all relevant laws and regulations.\n",
      "\n",
      "7. Submit documents to the registrar of companies: File all necessary closing documents and statements, along with the tax clearance certificate if required, with the Registrar of Companies to complete the closing process for the private limited company."
     ]
    },
    {
     "name": "stderr",
     "output_type": "stream",
     "text": [
      "\u001b[33m\u001b[39m\n",
      "\u001b[33m▶︎ ACTIONS LOG - 2023-12-29 11:16:32 - INFO \u001b[39m\n",
      "\u001b[33m\n",
      "[4]\n",
      "╰─➤ Refining the existing answer ▷▶\n",
      "\u001b[39m\n",
      "\u001b[33m\u001b[39m\n"
     ]
    },
    {
     "name": "stdout",
     "output_type": "stream",
     "text": [
      " Closing a private limited company involves several steps, including:\n",
      "\n",
      "1. Deciding on the winding up method: The shareholders or directors must decide whether to close the company through voluntary or compulsory liquidation. This choice is important because it determines who will oversee the dissolution process.\n",
      "\n",
      "2. Appointing a liquidator: If the company chooses voluntary winding up, an insolvency practitioner or licensed liquidator should be appointed by either the company's members or creditors. In a compulsory winding up, the court appoints the liquidator. The liquidator is responsible for ensuring that all debts and liabilities are paid off in accordance with the law.\n",
      "\n",
      "3. Preparing a statement of affairs: The liquidator must create a statement that includes the company's assets and liabilities at the time of winding-up. This statement helps to ensure that all creditors and shareholders are treated fairly during the process.\n",
      "\n",
      "4. Distributing assets: The liquidator should distribute the remaining assets to the creditors based on their priority, which usually involves repaying secured creditors first, followed by unsecured creditors, and lastly, shareholders. This ensures that all debts are paid off before any assets are distributed among the shareholders.\n",
      "\n",
      "5. Completing winding up of affairs: The company must complete the process of winding up its business and settling all liabilities before dissolution. This may include disposing of any remaining inventory or property, canceling contracts and leases, and notifying clients and customers of the impending closure.\n",
      "\n",
      "6. Company Liquidator's application to Tribunal: The Company Liquidator must make an application to the Tribunal for dissolution, based on the completed winding up.\n",
      "\n",
      "7. Tribunal's order for dissolution: The Tribunal may pass an order for dissolution if it is just and reasonable in the circumstances of the case.\n",
      "\n",
      "8. Forwarding a copy of the order: Within thirty days from the date of the order, the Company Liquidator must forward a copy to the Registrar.\n",
      "\n",
      "9. Recording the dissolution in the register: The Registrar shall publish a notice in the Official Gazette and strike off the company's name from the register if no cause to the contrary is shown. Upon publication, the company will stand dissolved.\n",
      "\n",
      "To ensure all outstanding tax issues or filings are addressed during the closing process of a private limited company, one should follow these additional steps:\n",
      "\n",
      "1. Review and update all financial records: Go through the company's books and records to verify that all transactions have been accurately recorded, and ensure that any outstanding taxes or tax-related matters have been properly accounted for in the financial statements.\n",
      "\n",
      "2. File necessary tax returns: Ensure that all required tax returns have been filed with the appropriate tax authorities, such as income tax, GST, and other relevant taxes. If there are any overdue filings, submit them immediately.\n",
      "\n",
      "3. Check for outstanding payments or penalties: Review any outstanding taxes, penalties, or interest charges due to be paid to the tax authorities. Ensure that these obligations have been settled in full before proceeding with the closing process.\n",
      "\n",
      "4. Engage an auditor or accountant: If necessary, hire a professional to conduct an audit of the company's financial records and tax filings to ensure they are accurate and up-to-date, and to identify any potential issues that may need resolution before closing.\n",
      "\n",
      "5. Obtain tax clearance certificates: Depending on the jurisdiction, a private limited company may be required to obtain a tax clearance certificate from the relevant tax authorities before proceeding with its closure. This certificate will confirm that all outstanding taxes and related filings have been settled.\n",
      "\n",
      "6. Prepare closing documents and statements: Draft all necessary documents and statements for the closing process, including an annual return containing the required information as per the Companies Act 2013. These should be certified by a chartered accountant or company secretary in practice to ensure compliance with all relevant laws and regulations.\n",
      "\n",
      "7. Submit documents to the registrar of companies: File all necessary closing documents and statements, along with the tax clearance certificate if required, with the Registrar of Companies to complete the closing process for the private limited company."
     ]
    },
    {
     "name": "stderr",
     "output_type": "stream",
     "text": [
      "\u001b[33m\u001b[39m\n",
      "\u001b[33m▶︎ ACTIONS LOG - 2023-12-29 11:17:12 - INFO \u001b[39m\n",
      "\u001b[33m\n",
      "[4]\n",
      "╰─➤ Compiling the final Answer ▷▶\n",
      "\u001b[39m\n",
      "\u001b[33m\u001b[39m\n"
     ]
    },
    {
     "name": "stdout",
     "output_type": "stream",
     "text": [
      " To close a private limited company, one must follow several steps:\n",
      "\n",
      "1. Deciding on the winding up method: The shareholders or directors must decide whether to close the company through voluntary or compulsory liquidation. This decision is crucial as it determines who will oversee the dissolution process.\n",
      "\n",
      "2. Appointing a liquidator: If the company chooses voluntary winding up, an insolvency practitioner or licensed liquidator should be appointed by either the company's members or creditors. In a compulsory winding up, the court appoints the liquidator. The primary responsibility of the liquidator is to ensure that all debts and liabilities are settled in accordance with the law.\n",
      "\n",
      "3. Preparing a statement of affairs: The liquidator must prepare a document detailing the company's assets and liabilities at the time of winding up. This statement helps to ensure fair treatment for creditors and shareholders during the process.\n",
      "\n",
      "4. Distributing assets: The liquidator should distribute the remaining assets to creditors based on their priority, which typically involves repaying secured creditors first, unsecured creditors second, and shareholders last. This ensures that all debts are settled before any assets are distributed among the shareholders.\n",
      "\n",
      "5. Completing winding up of affairs: The company must complete its business operations, settling all liabilities and obligations, and notifying clients and customers of its impending closure.\n",
      "\n",
      "6. Company Liquidator's application to Tribunal: The liquidator must submit an application for dissolution to the relevant tribunal based on the completed winding up process.\n",
      "\n",
      "7. Tribunal's order for dissolution: The tribunal may issue a dissolution order if it finds the company's winding up to be just and reasonable.\n",
      "\n",
      "8. Forwarding a copy of the order: Within 30 days from the date of the order, the liquidator must forward a copy of the dissolution order to the Registrar of Companies.\n",
      "\n",
      "9. Recording the dissolution in the register: The Registrar shall publish a notice in the Official Gazette and strike off the company's name from the register if no objections are raised within 30 days. Upon publication, the company will be officially deemed dissolved.\n",
      "\n",
      "To ensure all outstanding tax issues or filings are addressed during the closing process of a private limited company, one should:\n",
      "\n",
      "1. Review and update all financial records: Verify that all transactions have been accurately recorded, ensuring that any outstanding taxes or tax-related matters have been accounted for in the company's financial statements.\n",
      "\n",
      "2. File necessary tax returns: Ensure that all required tax returns are filed with the appropriate tax authorities, such as income tax and GST, and submit any overdue filings immediately.\n",
      "\n",
      "3. Check for outstanding payments or penalties: Review any outstanding taxes, penalties, or interest charges due to be paid to the tax authorities and ensure these obligations have been settled in full before proceeding with the closing process.\n",
      "\n",
      "4. Engage an auditor or accountant: If necessary, hire a professional to conduct an audit of the company's financial records and tax filings to confirm their accuracy and compliance with relevant laws and regulations.\n",
      "\n",
      "5. Obtain tax clearance certificates: Depending on the jurisdiction, a private limited company may be required to obtain a tax clearance certificate from the relevant tax authorities before proceeding with its closure. This certificate will verify that all outstanding taxes have been settled.\n",
      "\n",
      "6. Prepare closing documents and statements: Draft all necessary documents and statements for the closing process, including an annual return containing information as per the Companies Act 2013, certified by a chartered accountant or company secretary in practice.\n",
      "\n",
      "7. Submit documents to the registrar of companies: File all necessary closing documents and statements, along with any required tax clearance certificates, with the Registrar of Companies to complete the closing process for the private limited company."
     ]
    },
    {
     "name": "stderr",
     "output_type": "stream",
     "text": [
      "\u001b[92m\u001b[39m\n",
      "\u001b[92m▶︎ AGENT LOG - 2023-12-29 11:17:55 - INFO \u001b[39m\n",
      "\u001b[92m\n",
      "\n",
      "╰─➤ Final Answer ▷▶\n",
      "  To close a private limited company, one must follow several steps:\n",
      "\n",
      "1. Deciding on the winding up method: The shareholders or directors must decide whether to close the company through voluntary or compulsory liquidation. This decision is crucial as it determines who will oversee the dissolution process.\n",
      "\n",
      "2. Appointing a liquidator: If the company chooses voluntary winding up, an insolvency practitioner or licensed liquidator should be appointed by either the company's members or creditors. In a compulsory winding up, the court appoints the liquidator. The primary responsibility of the liquidator is to ensure that all debts and liabilities are settled in accordance with the law.\n",
      "\n",
      "3. Preparing a statement of affairs: The liquidator must prepare a document detailing the company's assets and liabilities at the time of winding up. This statement helps to ensure fair treatment for creditors and shareholders during the process.\n",
      "\n",
      "4. Distributing assets: The liquidator should distribute the remaining assets to creditors based on their priority, which typically involves repaying secured creditors first, unsecured creditors second, and shareholders last. This ensures that all debts are settled before any assets are distributed among the shareholders.\n",
      "\n",
      "5. Completing winding up of affairs: The company must complete its business operations, settling all liabilities and obligations, and notifying clients and customers of its impending closure.\n",
      "\n",
      "6. Company Liquidator's application to Tribunal: The liquidator must submit an application for dissolution to the relevant tribunal based on the completed winding up process.\n",
      "\n",
      "7. Tribunal's order for dissolution: The tribunal may issue a dissolution order if it finds the company's winding up to be just and reasonable.\n",
      "\n",
      "8. Forwarding a copy of the order: Within 30 days from the date of the order, the liquidator must forward a copy of the dissolution order to the Registrar of Companies.\n",
      "\n",
      "9. Recording the dissolution in the register: The Registrar shall publish a notice in the Official Gazette and strike off the company's name from the register if no objections are raised within 30 days. Upon publication, the company will be officially deemed dissolved.\n",
      "\n",
      "To ensure all outstanding tax issues or filings are addressed during the closing process of a private limited company, one should:\n",
      "\n",
      "1. Review and update all financial records: Verify that all transactions have been accurately recorded, ensuring that any outstanding taxes or tax-related matters have been accounted for in the company's financial statements.\n",
      "\n",
      "2. File necessary tax returns: Ensure that all required tax returns are filed with the appropriate tax authorities, such as income tax and GST, and submit any overdue filings immediately.\n",
      "\n",
      "3. Check for outstanding payments or penalties: Review any outstanding taxes, penalties, or interest charges due to be paid to the tax authorities and ensure these obligations have been settled in full before proceeding with the closing process.\n",
      "\n",
      "4. Engage an auditor or accountant: If necessary, hire a professional to conduct an audit of the company's financial records and tax filings to confirm their accuracy and compliance with relevant laws and regulations.\n",
      "\n",
      "5. Obtain tax clearance certificates: Depending on the jurisdiction, a private limited company may be required to obtain a tax clearance certificate from the relevant tax authorities before proceeding with its closure. This certificate will verify that all outstanding taxes have been settled.\n",
      "\n",
      "6. Prepare closing documents and statements: Draft all necessary documents and statements for the closing process, including an annual return containing information as per the Companies Act 2013, certified by a chartered accountant or company secretary in practice.\n",
      "\n",
      "7. Submit documents to the registrar of companies: File all necessary closing documents and statements, along with any required tax clearance certificates, with the Registrar of Companies to complete the closing process for the private limited company.\u001b[39m\n",
      "\u001b[92m\u001b[39m\n"
     ]
    }
   ],
   "source": [
    "goal = \"Explain in detail the process for closing a private limited company?\"\n",
    "\n",
    "agent_settings = {\n",
    "    \"model\": \"mistral-openorca:latest\",\n",
    "    \"max_iter\": 4,\n",
    "    \"num_questions_per_iter\": 3,\n",
    "    \"num_retry_on_failure\": 3,\n",
    "    \"verbose\": False,\n",
    "    \"stream\": True,\n",
    "    \"add_question_embeddings\": False,\n",
    "    \"refine_on_iterations\": True, \n",
    "    ## refine_on_iterations Must be true if compile answer is set to false. \n",
    "    ## Otherwise it can be set to true or false. \n",
    "    \"compile_final_answer\": True, \n",
    "}\n",
    "\n",
    "agent = Agent(\n",
    "    goal,\n",
    "    retriever=neo4j_retriever,\n",
    "    agent_settings=agent_settings,\n",
    ")\n",
    "\n",
    "agent.run()\n"
   ]
  },
  {
   "cell_type": "markdown",
   "metadata": {},
   "source": [
    "## Visualisation"
   ]
  },
  {
   "cell_type": "code",
   "execution_count": 6,
   "metadata": {},
   "outputs": [
    {
     "data": {
      "text/plain": [
       "['None ---> 0 - Explain in detail the process for closing a private limited company?',\n",
       " '0 ---> 1 - What are the legal requirements for dissolving a company?',\n",
       " '0 ---> 2 - How does one go about paying off debts and liabilities when closing a private limited company?',\n",
       " '0 ---> 3 - How long is the notice of intention to strike off period and what is its purpose in the process?',\n",
       " '1 ---> 4 - How does one ensure all outstanding tax issues or filings are addressed during the closing process of a private limited company?',\n",
       " '1 ---> 5 - What procedures should be in place for distributing assets among shareholders when closing a private limited company?',\n",
       " '1 ---> 6 - What role do Company Liquidators play in the overall process of closing a private limited company?',\n",
       " '2 ---> 7 - What are the legal requirements for dissolving a company?',\n",
       " '2 ---> 8 - How does one ensure all outstanding tax issues or filings are addressed during the closing process of a private limited company?',\n",
       " '2 ---> 9 - What role do Company Liquidators play in the overall process of closing a private limited company?',\n",
       " '3 ---> 10 - What role do Company Liquidators play in the overall process of closing a private limited company?',\n",
       " '3 ---> 11 - How does one ensure all outstanding tax issues or filings are addressed during the closing process of a private limited company?',\n",
       " '3 ---> 12 - What procedures should be in place for distributing assets among shareholders when closing a private limited company?']"
      ]
     },
     "execution_count": 6,
     "metadata": {},
     "output_type": "execute_result"
    }
   ],
   "source": [
    "rmo = agent.run_model\n",
    "[(f\"{q.parent_id} ---> { q.id} - {q.question}\") for q in rmo.get_all_questions()]"
   ]
  },
  {
   "cell_type": "code",
   "execution_count": 7,
   "metadata": {},
   "outputs": [],
   "source": [
    "qn = rmo.save()"
   ]
  },
  {
   "cell_type": "code",
   "execution_count": 8,
   "metadata": {},
   "outputs": [
    {
     "data": {
      "text/plain": [
       "'fa1a51ea-757f-48c2-9aa1-8b545998b6f5'"
      ]
     },
     "execution_count": 8,
     "metadata": {},
     "output_type": "execute_result"
    }
   ],
   "source": [
    "qn"
   ]
  },
  {
   "cell_type": "code",
   "execution_count": null,
   "metadata": {},
   "outputs": [],
   "source": []
  }
 ],
 "metadata": {
  "kernelspec": {
   "display_name": "OpenAI@3111",
   "language": "python",
   "name": "python3"
  },
  "language_info": {
   "codemirror_mode": {
    "name": "ipython",
    "version": 3
   },
   "file_extension": ".py",
   "mimetype": "text/x-python",
   "name": "python",
   "nbconvert_exporter": "python",
   "pygments_lexer": "ipython3",
   "version": "3.11.4"
  }
 },
 "nbformat": 4,
 "nbformat_minor": 2
}
