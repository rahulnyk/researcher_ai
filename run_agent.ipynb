{
 "cells": [
  {
   "cell_type": "code",
   "execution_count": 2,
   "metadata": {},
   "outputs": [],
   "source": [
    "from dotenv import load_dotenv\n",
    "load_dotenv(\"../.env\")\n",
    "import os\n",
    "from agent.agent import Agent"
   ]
  },
  {
   "cell_type": "code",
   "execution_count": 3,
   "metadata": {},
   "outputs": [],
   "source": [
    "## PG Retriever\n",
    "from agent.retrievers.pg_retriever import PGRetriever\n",
    "DB_PASSWORD = os.environ[\"SUPABASE_PASSWORD\"]\n",
    "DB_DBUSER = os.environ[\"SUPABASE_DBUSER\"]\n",
    "DB_DATABASE = os.environ[\"SUPABASE_DATABASE\"]\n",
    "DB_HOST = os.environ[\"SUPABASE_HOST\"]\n",
    "DB_PORT = os.environ[\"SUPABASE_PORT\"]\n",
    "\n",
    "DB_CONN_STRING = (\n",
    "    f\"postgresql://{DB_DBUSER}:{DB_PASSWORD}@{DB_HOST}:{DB_PORT}/{DB_DATABASE}\"\n",
    ")\n",
    "\n",
    "collection = 'legal_docs'\n",
    "pg_retriever = PGRetriever(conn_params=DB_CONN_STRING, collection=collection)\n",
    "# collection = 'mahabharata'\n"
   ]
  },
  {
   "cell_type": "code",
   "execution_count": 4,
   "metadata": {},
   "outputs": [],
   "source": [
    "# Neo4j Retriever\n",
    "from agent.retrievers.neo4j_retriever import Neo4jRetriever\n",
    "\n",
    "neo4j_retriever = Neo4jRetriever(\n",
    "    conn_params={\n",
    "        \"username\": os.environ[\"NEO4J_USERNAME\"],\n",
    "        \"password\": os.environ[\"NEO4J_PASSWORD\"],\n",
    "        \"uri\": os.environ[\"NEO4J_URI\"],\n",
    "    },\n",
    "    collection='documents'\n",
    ")"
   ]
  },
  {
   "cell_type": "markdown",
   "metadata": {},
   "source": [
    "## Run the Agent"
   ]
  },
  {
   "cell_type": "code",
   "execution_count": 6,
   "metadata": {},
   "outputs": [
    {
     "name": "stdout",
     "output_type": "stream",
     "text": [
      "\u001b[32m\u001b[1mGoal:  what are the various instruments for a unlisted company to raise funds?\u001b[39m\u001b[22m\n",
      "\u001b[1m\u001b[32m\u001b[22m\u001b[39m\n",
      "\u001b[1m\u001b[32m╰─➤ Initial Hypothesis ▷▶\u001b[22m\u001b[39m\n",
      "\u001b[1m\u001b[32m\u001b[22m\u001b[39m\n",
      " Concepts: unlisted company, raise funds, instruments\n",
      "Context: types of instruments used by an unlisted company to raise capital\n",
      "\n",
      "Initial Answer:\n",
      "\u001b[1m\u001b[32m\u001b[22m\u001b[39m\n",
      "\u001b[1m\u001b[32m[0]\u001b[22m\u001b[39m\n",
      "\u001b[1m\u001b[32m╰─➤ Answer ▷▶\u001b[22m\u001b[39m\n",
      "\u001b[1m\u001b[32m\u001b[22m\u001b[39m\n",
      " To analyze the data provided, I will first categorize it into sections and then summarize each section.\n",
      "\n",
      "Section A: Definitions and Explanations \n",
      "- Share capital refers to the money that owners of a company have invested in the business or are willing to invest. This capital can be divided into shares, which represent ownership stakes in the company. The terms \"preference shares\" and \"equity shares\" refer to different types of share capital.\n",
      "\n",
      "Section B: Balance Sheet - Share Capital\n",
      "- Issued capital is the total amount of share capital issued by a company, not including any additional authorised capital that can be issued in the future. Authorized capital represents the maximum amount of share capital that a company's shareholders have agreed to allow the company to issue.\n",
      "\n",
      "Section C: Balance Sheet - Liabilities and Assets\n",
      "- The balance sheet provides information about a company's financial position at a specific point in time, showing its assets, liabilities, and equity. This includes:\n",
      "  a. Loans and advances from related parties\n",
      "  b. Deposits\n",
      "  c. Other loans and advances (specify nature)\n",
      "  d. Borrowings (secured and unsecured)\n",
      "  e. Other current liabilities (current maturities of long-term debt, current maturities of finance lease obligations, interest accrued but not due on borrowings, interest accrued and due on borrowings, income received in advance, unpaid dividends, application money received for allotment of securities and refund interest, unpaid matured deposits, bonds, unquoted investments, market value, provision made for diminution in value of investments)\n",
      "  f. Inventories (raw materials, work-in-progress, finished goods, stock-in-trade, stores and spares, loose tools, others - specify nature)\n",
      "  g. Trade receivables (aggregate amount outstanding for a period exceeding six months from the date they are due for payment should be separately stated)\n",
      "\n",
      "Section D: Balance Sheet - Investments\n",
      "- This section discusses company investments.\n",
      "  a. Current investments (in Equity Instruments, Preference Shares, Government or trust securities, debentures or bonds, mutual funds, partnership firms - names of bodies corporate, total capital and shares of each partner, others - specify nature)\n",
      "  b. Aggregate amount of quoted investments and market value thereof\n",
      "  c. Aggregate amount of unquoted investments\n",
      "  d. Aggregate provision made for diminution in value of investments.\n",
      "\n",
      "In conclusion, the data provided is related to company financial positions, including share capital, liabilities, assets, and investments at specific points in time. The balance sheet and related terms help understand the financial details of a company.\u001b[1m\u001b[32m\u001b[22m\u001b[39m\n",
      "\u001b[1m\u001b[32m[1]\u001b[22m\u001b[39m\n",
      "\u001b[1m\u001b[32m╰─➤ Ask more questions based on new context ▷▶\u001b[22m\u001b[39m\n",
      "\u001b[1m\u001b[32m\u001b[22m\u001b[39m\n",
      " ['What are the different types of shares issued by a company?', 'How can loans and advances be used to help a company raise funds?']\u001b[1m\u001b[32m\u001b[22m\u001b[39m\n",
      "\u001b[1m\u001b[32m\u001b[22m\u001b[39m\n",
      "\u001b[1m\u001b[32m╰─➤ [1] Next Question I must ask ▷▶\u001b[22m\u001b[39m\n",
      "\u001b[1m\u001b[32m\u001b[22m\u001b[39m\n",
      " 1. 'What are the different types of shares issued by a company?'\u001b[1m\u001b[32m\u001b[22m\u001b[39m\n",
      "\u001b[1m\u001b[32m[1]\u001b[22m\u001b[39m\n",
      "\u001b[1m\u001b[32m╰─➤ Answer ▷▶\u001b[22m\u001b[39m\n",
      "\u001b[1m\u001b[32m\u001b[22m\u001b[39m\n",
      " The Companies Act 2013 provides the regulations for companies in India. It includes rules regarding dividends, share classes, and rights. Specifically, Section 45 states that if a class of preference shares has not received dividend payment for two years or more, the holders of those shares gain voting rights on all resolutions placed before the company.\n",
      "\n",
      "Section 48 discusses variations in shareholder's rights. If a company's share capital is divided into different classes of shares, the rights attached to these shares can be varied with certain conditions being met. These include written consent from holders of not less than three-fourths of the issued shares for that class or approval through a special resolution passed at a separate meeting of the holders of those issued shares.\n",
      "\n",
      "Section 49 requires that calls on shares of the same class must be made on a uniform basis, meaning if any calls are made on the shares of a particular class, they should be made to all shares within that class equally.\n",
      "\n",
      "According to Section 50, a company can accept payment from members for amounts remaining unpaid on their shares, even if no part of this amount has been called up. However, a member will not have voting rights until the amount paid is called up.\n",
      "\n",
      "Section 51 states that a company may pay dividends in proportion to the amount paid-up on each share if authorized by its articles.\n",
      "\n",
      "Lastly, Section 52 addresses the application of premiums received when shares are issued at a premium. The premium amount should be transferred to a \"securities premium account.\" The provisions regarding reduction of share capital apply as if the securities premium account were the paid-up share capital of the company.\u001b[1m\u001b[32m\u001b[22m\u001b[39m\n",
      "\u001b[1m\u001b[32m[1]\u001b[22m\u001b[39m\n",
      "\u001b[1m\u001b[32m╰─➤ Refining the existing answer ▷▶\u001b[22m\u001b[39m\n",
      "\u001b[1m\u001b[32m\u001b[22m\u001b[39m\n",
      " Various instruments for an unlisted company to raise funds include:\n",
      "1. Share capital: Companies can issue different types of shares, such as preference shares and equity shares, to raise funds. This allows them to attract investors with varying risk appetite and return expectations.\n",
      "2. Loans and advances from related parties: Companies can borrow money from individuals or entities they have a relationship with, such as family members or partners in other businesses.\n",
      "3. Deposits: Unlisted companies can accept deposits from the public for specific purposes, such as financing working capital or providing fixed returns to investors.\n",
      "4. Other loans and advances: Companies may borrow funds through various financial instruments or lending institutions.\n",
      "5. Borrowings (secured and unsecured): Companies can raise funds by issuing debentures or bonds, which are long-term obligations that need to be paid back in accordance with the terms agreed upon during issuance.\n",
      "6. Inventories: A company can raise funds by managing their inventory effectively, ensuring a balance between holding sufficient stocks for business operations and generating cash from the sale of surplus inventories.\n",
      "7. Trade receivables: Companies can increase working capital by optimizing their accounts receivable management, including efficient credit control measures and timely collection of dues.\n",
      "8. Investments: Unlisted companies can raise funds through investments in various financial instruments like government securities, debentures or bonds, mutual funds, partnership firms, etc.\n",
      "\n",
      "The Companies Act 2013 provides regulations for these financing methods in India, including rules regarding dividends, share classes, and rights. Section 45 enables voting rights for preference shareholders if a class of shares has not received dividend payment for two years or more. Other sections address variations in shareholder's rights, calls on shares, payment of dividends, and application of premiums received when shares are issued at a premium.\u001b[1m\u001b[32m\u001b[22m\u001b[39m\n",
      "\u001b[1m\u001b[32m[2]\u001b[22m\u001b[39m\n",
      "\u001b[1m\u001b[32m╰─➤ Ask more questions based on new context ▷▶\u001b[22m\u001b[39m\n",
      "\u001b[1m\u001b[32m\u001b[22m\u001b[39m\n",
      " ['What are the different types of shares issued by a company?', 'How can loans and advances be used to help a company raise funds?']\u001b[1m\u001b[32m\u001b[22m\u001b[39m\n",
      "\u001b[1m\u001b[32m\u001b[22m\u001b[39m\n",
      "\u001b[1m\u001b[32m╰─➤ [2] Next Question I must ask ▷▶\u001b[22m\u001b[39m\n",
      "\u001b[1m\u001b[32m\u001b[22m\u001b[39m\n",
      " 2. 'How can loans and advances be used to help a company raise funds?'\u001b[1m\u001b[32m\u001b[22m\u001b[39m\n",
      "\u001b[1m\u001b[32m[2]\u001b[22m\u001b[39m\n",
      "\u001b[1m\u001b[32m╰─➤ Answer ▷▶\u001b[22m\u001b[39m\n",
      "\u001b[1m\u001b[32m\u001b[22m\u001b[39m\n",
      " 1. The Companies Act, 2013 lays down provisions for borrowing by a company in India.\n",
      "\n",
      "2. A company can borrow monies within the limit imposed by the Board of Directors in general meeting. This includes loans from banks and other parties, temporary loans, debentures or bonds, term loans, and other long-term borrowings.\n",
      "\n",
      "3. The Company may give time for repayment of debt due from a director as per the special resolution passed in the general meeting.\n",
      "\n",
      "4. A company may also contribute to bona fide charitable funds and other funds, provided prior permission is obtained from the company's general meeting if the total amount exceeds 5% of its average net profits for the three immediately preceding financial years.\n",
      "\n",
      "5. The Company can make political contributions but not in excess of limits prescribed by law or regulations.\n",
      "\n",
      "6. Long-term borrowings should be classified under various heads such as bonds/debentures, term loans, deferred payment liabilities, deposits, loans and advances from related parties, long-term maturities of finance lease obligations, and other loans and advances. These should be further sub-classified as secured and unsecured.\n",
      "\n",
      "7. Bonds/debentures details like rate of interest, redemption or conversion particulars, and guarantees by directors or others should also be disclosed.\n",
      "\n",
      "8. Short-term borrowings should be classified under loans repayable on demand from banks and other parties.\n",
      "\n",
      "9. Long-term provisions such as provision for employee benefits and others should also be classified separately.\u001b[1m\u001b[32m\u001b[22m\u001b[39m\n",
      "\u001b[1m\u001b[32m[2]\u001b[22m\u001b[39m\n",
      "\u001b[1m\u001b[32m╰─➤ Refining the existing answer ▷▶\u001b[22m\u001b[39m\n",
      "\u001b[1m\u001b[32m\u001b[22m\u001b[39m\n",
      " Various instruments for an unlisted company to raise funds are regulated by the Companies Act, 2013 in India. These methods include:\n",
      "\n",
      "1. Share capital - Issuing different types of shares like preference and equity shares.\n",
      "2. Loans from related parties - Borrowing money from individuals or entities with whom the company has a relationship.\n",
      "3. Deposits - Accepting deposits from the public for specific purposes, like working capital or fixed returns to investors.\n",
      "4. Other loans and advances - Borrowing funds through various financial instruments or lending institutions.\n",
      "5. Borrowings (secured and unsecured) - Issuing debentures or bonds that need to be repaid according to the terms agreed upon during issuance.\n",
      "6. Inventories - Managing inventory effectively, generating cash from selling surplus inventories.\n",
      "7. Trade receivables - Improving accounts receivable management through efficient credit control and timely collection of dues.\n",
      "8. Investments - Raising funds by investing in various financial instruments like government securities, debentures or bonds, mutual funds, partnership firms, etc.\n",
      "\n",
      "Additionally, according to the Companies Act, 2013, a company can borrow monies within the limits set by the Board of Directors and contribute to charitable funds with prior approval from the general meeting. The company may also make political contributions up to the prescribed limit. Long-term borrowings should be classified under secured and unsecured bonds/debentures, term loans, deferred payment liabilities, deposits, loans and advances from related parties, long-term maturities of finance lease obligations, and other long-term borrowings. Detailed information about bonds/debentures, rate of interest, redemption or conversion particulars, and guarantees by directors or others should also be disclosed. Short-term borrowings should be classified under loans repayable on demand from banks and other parties. Long-term provisions such as provision for employee benefits should also be separately classified.\n",
      "\n",
      "╰─➤ Final Answer ▷▶\n",
      "  Various instruments for an unlisted company to raise funds are regulated by the Companies Act, 2013 in India. These methods include:\n",
      "\n",
      "1. Share capital - Issuing different types of shares like preference and equity shares.\n",
      "2. Loans from related parties - Borrowing money from individuals or entities with whom the company has a relationship.\n",
      "3. Deposits - Accepting deposits from the public for specific purposes, like working capital or fixed returns to investors.\n",
      "4. Other loans and advances - Borrowing funds through various financial instruments or lending institutions.\n",
      "5. Borrowings (secured and unsecured) - Issuing debentures or bonds that need to be repaid according to the terms agreed upon during issuance.\n",
      "6. Inventories - Managing inventory effectively, generating cash from selling surplus inventories.\n",
      "7. Trade receivables - Improving accounts receivable management through efficient credit control and timely collection of dues.\n",
      "8. Investments - Raising funds by investing in various financial instruments like government securities, debentures or bonds, mutual funds, partnership firms, etc.\n",
      "\n",
      "Additionally, according to the Companies Act, 2013, a company can borrow monies within the limits set by the Board of Directors and contribute to charitable funds with prior approval from the general meeting. The company may also make political contributions up to the prescribed limit. Long-term borrowings should be classified under secured and unsecured bonds/debentures, term loans, deferred payment liabilities, deposits, loans and advances from related parties, long-term maturities of finance lease obligations, and other long-term borrowings. Detailed information about bonds/debentures, rate of interest, redemption or conversion particulars, and guarantees by directors or others should also be disclosed. Short-term borrowings should be classified under loans repayable on demand from banks and other parties. Long-term provisions such as provision for employee benefits should also be separately classified.\n"
     ]
    }
   ],
   "source": [
    "goal = \"what are the various instruments for a unlisted company to raise funds?\"\n",
    "\n",
    "agent_settings = {\n",
    "    \"model\": \"mistral-openorca:latest\",\n",
    "    \"max_iter\": 2,\n",
    "    \"num_questions_per_iter\": 2,\n",
    "    \"verbose\": False,\n",
    "    \"stream\": True,\n",
    "}\n",
    "\n",
    "agent = Agent(\n",
    "    goal,\n",
    "    retriever=neo4j_retriever,\n",
    "    agent_settings=agent_settings,\n",
    ")\n",
    "\n",
    "agent.run()\n"
   ]
  },
  {
   "cell_type": "markdown",
   "metadata": {},
   "source": [
    "## Visualisation"
   ]
  },
  {
   "cell_type": "code",
   "execution_count": 7,
   "metadata": {},
   "outputs": [],
   "source": [
    "rm = agent.run_model"
   ]
  },
  {
   "cell_type": "code",
   "execution_count": 8,
   "metadata": {},
   "outputs": [],
   "source": [
    "qs = [(q.id, q.parent_id, q.question) for q in rm.get_all_questions()]"
   ]
  },
  {
   "cell_type": "code",
   "execution_count": 9,
   "metadata": {},
   "outputs": [
    {
     "data": {
      "text/plain": [
       "[(0,\n",
       "  None,\n",
       "  'what are the various instruments for a unlisted company to raise funds?'),\n",
       " (1, 0, 'What are the different types of shares issued by a company?'),\n",
       " (2, 0, 'How can loans and advances be used to help a company raise funds?'),\n",
       " (3, 1, 'What are the different types of shares issued by a company?'),\n",
       " (4, 1, 'How can loans and advances be used to help a company raise funds?')]"
      ]
     },
     "execution_count": 9,
     "metadata": {},
     "output_type": "execute_result"
    }
   ],
   "source": [
    "qs"
   ]
  },
  {
   "cell_type": "code",
   "execution_count": null,
   "metadata": {},
   "outputs": [],
   "source": []
  }
 ],
 "metadata": {
  "kernelspec": {
   "display_name": "OpenAI@3111",
   "language": "python",
   "name": "python3"
  },
  "language_info": {
   "codemirror_mode": {
    "name": "ipython",
    "version": 3
   },
   "file_extension": ".py",
   "mimetype": "text/x-python",
   "name": "python",
   "nbconvert_exporter": "python",
   "pygments_lexer": "ipython3",
   "version": "3.11.4"
  }
 },
 "nbformat": 4,
 "nbformat_minor": 2
}
