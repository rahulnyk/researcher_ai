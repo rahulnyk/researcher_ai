{
 "cells": [
  {
   "cell_type": "code",
   "execution_count": 4,
   "metadata": {},
   "outputs": [],
   "source": [
    "from dotenv import load_dotenv\n",
    "load_dotenv(\"../.env\")\n",
    "import os\n",
    "from agent.agent import Agent"
   ]
  },
  {
   "cell_type": "code",
   "execution_count": 5,
   "metadata": {},
   "outputs": [],
   "source": [
    "## PG Retriever\n",
    "from agent.retrievers.pg_retriever import PGRetriever\n",
    "DB_PASSWORD = os.environ[\"SUPABASE_PASSWORD\"]\n",
    "DB_DBUSER = os.environ[\"SUPABASE_DBUSER\"]\n",
    "DB_DATABASE = os.environ[\"SUPABASE_DATABASE\"]\n",
    "DB_HOST = os.environ[\"SUPABASE_HOST\"]\n",
    "DB_PORT = os.environ[\"SUPABASE_PORT\"]\n",
    "\n",
    "DB_CONN_STRING = (\n",
    "    f\"postgresql://{DB_DBUSER}:{DB_PASSWORD}@{DB_HOST}:{DB_PORT}/{DB_DATABASE}\"\n",
    ")\n",
    "\n",
    "collection = 'legal_docs'\n",
    "pg_retriever = PGRetriever(conn_params=DB_CONN_STRING, collection=collection)\n",
    "# collection = 'mahabharata'\n"
   ]
  },
  {
   "cell_type": "code",
   "execution_count": 6,
   "metadata": {},
   "outputs": [],
   "source": [
    "# Neo4j Retriever\n",
    "from agent.retrievers.neo4j_retriever import Neo4jRetriever\n",
    "\n",
    "neo4j_retriever = Neo4jRetriever(\n",
    "    conn_params={\n",
    "        \"username\": os.environ[\"NEO4J_USERNAME\"],\n",
    "        \"password\": os.environ[\"NEO4J_PASSWORD\"],\n",
    "        \"uri\": os.environ[\"NEO4J_URI\"],\n",
    "    },\n",
    "    collection='documents'\n",
    ")"
   ]
  },
  {
   "cell_type": "markdown",
   "metadata": {},
   "source": [
    "## Run the Agent"
   ]
  },
  {
   "cell_type": "code",
   "execution_count": 7,
   "metadata": {},
   "outputs": [
    {
     "name": "stderr",
     "output_type": "stream",
     "text": [
      "\u001b[92m\u001b[39m\n",
      "\u001b[92m▶︎ AGENT LOG - 2023-12-29 10:10:01 - INFO \u001b[39m\n",
      "\u001b[92mGoal:  I want to know how to close a company, explain in detail?\u001b[39m\n",
      "\u001b[92m\u001b[39m\n",
      "\u001b[33m\u001b[39m\n",
      "\u001b[33m▶︎ ACTIONS LOG - 2023-12-29 10:10:01 - INFO \u001b[39m\n",
      "\u001b[33m\n",
      "╰─➤ Initial Hypothesis ▷▶\n",
      "\u001b[39m\n",
      "\u001b[33m\u001b[39m\n"
     ]
    },
    {
     "name": "stdout",
     "output_type": "stream",
     "text": [
      " Concepts: close a company, explain in detail\n",
      "Context: Information about the process and legal requirements for closing a company"
     ]
    },
    {
     "name": "stderr",
     "output_type": "stream",
     "text": [
      "INFO:httpx:HTTP Request: POST https://api.openai.com/v1/embeddings \"HTTP/1.1 200 OK\"\n",
      "\u001b[92m\u001b[39m\n",
      "\u001b[92m▶︎ AGENT LOG - 2023-12-29 10:10:10 - INFO \u001b[39m\n",
      "\u001b[92m\n",
      "Initial Answer:\u001b[39m\n",
      "\u001b[92m\u001b[39m\n",
      "\u001b[33m\u001b[39m\n",
      "\u001b[33m▶︎ ACTIONS LOG - 2023-12-29 10:10:10 - INFO \u001b[39m\n",
      "\u001b[33m\n",
      "[0]\n",
      "╰─➤ Answer ▷▶\n",
      "\u001b[39m\n",
      "\u001b[33m\u001b[39m\n"
     ]
    },
    {
     "name": "stdout",
     "output_type": "stream",
     "text": [
      " To close a company, you need to follow these steps:\n",
      "\n",
      "1. Close the register of members or debenture-holders for a period not exceeding forty-five days in each year, subject to giving a previous notice of at least seven days. If this is not followed, the company and its officers may be liable to a penalty.\n",
      "\n",
      "2. Prepare an annual return containing specific details about the company, such as registered office, principal activities, shareholders, directors, debentures, meetings, remuneration, etc. This must be done according to the Companies Act 2013, and you should refer to the prescribed form.\n",
      "\n",
      "3. If the company has been dormant (not carrying on any business or operations) for two consecutive financial years and no application for dormant status has been made during that period, the company must send a notice to the directors and the company about removing its name from the register of companies.\n",
      "\n",
      "4. Appoint a Company Liquidator who is responsible for winding up the company according to the Companies Act 2013. This can be appointed by either the Tribunal (in case of winding up by the Tribunal), the company or creditors (in case of voluntary winding up).\n",
      "\n",
      "5. The name of the company must include \"Limited\" or \"Private Limited.\" The registered office should be located in a specific state. The objects pursued by the company upon incorporation, and the matters necessary for furthering these objects, should be stated. Additionally, members' liability should be limited, and their contributions to the payment of debts and winding up costs should be outlined."
     ]
    },
    {
     "name": "stderr",
     "output_type": "stream",
     "text": [
      "\u001b[33m\u001b[39m\n",
      "\u001b[33m▶︎ ACTIONS LOG - 2023-12-29 10:10:39 - INFO \u001b[39m\n",
      "\u001b[33m\n",
      "[1]\n",
      "╰─➤ Ask more questions based on new context ▷▶\n",
      "\u001b[39m\n",
      "\u001b[33m\u001b[39m\n"
     ]
    },
    {
     "name": "stdout",
     "output_type": "stream",
     "text": [
      " ['What is the first step to close a company?', 'What are the legal requirements for closing a company?', 'How do I appoint a Company Liquidator?']"
     ]
    },
    {
     "name": "stderr",
     "output_type": "stream",
     "text": [
      "\u001b[33m\u001b[39m\n",
      "\u001b[33m▶︎ ACTIONS LOG - 2023-12-29 10:10:44 - INFO \u001b[39m\n",
      "\u001b[33m\n",
      "[1]\n",
      "╰─➤ Next Question I must ask ▷▶\n",
      "\u001b[39m\n",
      "\u001b[33m\u001b[39m\n"
     ]
    },
    {
     "name": "stdout",
     "output_type": "stream",
     "text": [
      " 1. 'What is the first step to close a company?'"
     ]
    },
    {
     "name": "stderr",
     "output_type": "stream",
     "text": [
      "INFO:httpx:HTTP Request: POST https://api.openai.com/v1/embeddings \"HTTP/1.1 200 OK\"\n",
      "\u001b[33m\u001b[39m\n",
      "\u001b[33m▶︎ ACTIONS LOG - 2023-12-29 10:10:48 - INFO \u001b[39m\n",
      "\u001b[33m\n",
      "[1]\n",
      "╰─➤ Answer ▷▶\n",
      "\u001b[39m\n",
      "\u001b[33m\u001b[39m\n"
     ]
    },
    {
     "name": "stdout",
     "output_type": "stream",
     "text": [
      " The first step to close a company is for the directors to prepare a report showing that the property and assets of the company have been disposed of, its debts fully discharged or discharged to the satisfaction of creditors, and then call a general meeting of the company. At this meeting, the members can consider the report and pass a resolution for the dissolution of the company."
     ]
    },
    {
     "name": "stderr",
     "output_type": "stream",
     "text": [
      "\u001b[33m\u001b[39m\n",
      "\u001b[33m▶︎ ACTIONS LOG - 2023-12-29 10:11:02 - INFO \u001b[39m\n",
      "\u001b[33m\n",
      "[1]\n",
      "╰─➤ Refining the existing answer ▷▶\n",
      "\u001b[39m\n",
      "\u001b[33m\u001b[39m\n"
     ]
    },
    {
     "name": "stdout",
     "output_type": "stream",
     "text": [
      " To close a company, you need to follow these detailed steps:\n",
      "\n",
      "1. Close the register of members or debenture-holders for a period not exceeding forty-five days in each year, subject to giving a previous notice of at least seven days. If this is not followed, the company and its officers may be liable to a penalty.\n",
      "2. Prepare an annual return containing specific details about the company, such as registered office, principal activities, shareholders, directors, debentures, meetings, remuneration, etc. This must be done according to the Companies Act 2013, and you should refer to the prescribed form.\n",
      "3. If the company has been dormant (not carrying on any business or operations) for two consecutive financial years and no application for dormant status has been made during that period, the company must send a notice to the directors and the company about removing its name from the register of companies.\n",
      "4. Appoint a Company Liquidator who is responsible for winding up the company according to the Companies Act 2013. This can be appointed by either the Tribunal (in case of winding up by the Tribunal), the company or creditors (in case of voluntary winding up).\n",
      "5. The name of the company must include \"Limited\" or \"Private Limited.\" The registered office should be located in a specific state. The objects pursued by the company upon incorporation, and the matters necessary for furthering these objects, should be stated. Additionally, members' liability should be limited, and their contributions to the payment of debts and winding up costs should be outlined.\n",
      "\n",
      "In addition to these steps, the first step to close a company is for the directors to prepare a report showing that the property and assets of the company have been disposed of, its debts fully discharged or discharged to the satisfaction of creditors, and then call a general meeting of the company. At this meeting, the members can consider the report and pass a resolution for the dissolution of the company."
     ]
    },
    {
     "name": "stderr",
     "output_type": "stream",
     "text": [
      "\u001b[33m\u001b[39m\n",
      "\u001b[33m▶︎ ACTIONS LOG - 2023-12-29 10:11:25 - INFO \u001b[39m\n",
      "\u001b[33m\n",
      "[2]\n",
      "╰─➤ Ask more questions based on new context ▷▶\n",
      "\u001b[39m\n",
      "\u001b[33m\u001b[39m\n"
     ]
    },
    {
     "name": "stdout",
     "output_type": "stream",
     "text": [
      " ['What is the second step to close a company?', 'How should assets be disposed of during the process?', 'What are the penalties for not following the proper closing procedure?']"
     ]
    },
    {
     "name": "stderr",
     "output_type": "stream",
     "text": [
      "\u001b[33m\u001b[39m\n",
      "\u001b[33m▶︎ ACTIONS LOG - 2023-12-29 10:11:32 - INFO \u001b[39m\n",
      "\u001b[33m\n",
      "[2]\n",
      "╰─➤ Next Question I must ask ▷▶\n",
      "\u001b[39m\n",
      "\u001b[33m\u001b[39m\n"
     ]
    },
    {
     "name": "stdout",
     "output_type": "stream",
     "text": [
      " 2. 'What are the legal requirements for closing a company?'"
     ]
    },
    {
     "name": "stderr",
     "output_type": "stream",
     "text": [
      "INFO:httpx:HTTP Request: POST https://api.openai.com/v1/embeddings \"HTTP/1.1 200 OK\"\n",
      "\u001b[33m\u001b[39m\n",
      "\u001b[33m▶︎ ACTIONS LOG - 2023-12-29 10:11:36 - INFO \u001b[39m\n",
      "\u001b[33m\n",
      "[2]\n",
      "╰─➤ Answer ▷▶\n",
      "\u001b[39m\n",
      "\u001b[33m\u001b[39m\n"
     ]
    },
    {
     "name": "stdout",
     "output_type": "stream",
     "text": [
      " To close a company, the legal requirements include:\n",
      "\n",
      "1. Closing the register of members or debenture-holders or other security holders for not more than 45 days in each year, with a previous notice of at least seven days or such lesser period as specified by the Securities and Exchange Board for listed companies or those intending to list securities (Section 117).\n",
      "2. The company must follow specific conditions under which it can be wound up, such as:\n",
      "   a. The company is dissolved or has ceased to carry on business.\n",
      "   b. The company is unable to pay its debts.\n",
      "   c. The Tribunal believes that it is just and equitable for the company to be wound up (Section 274).\n",
      "3. If the name of the company needs to be restored in the register of companies after being struck off, the Registrar must file an application before the Tribunal within a period of three years from the date of passing the order dissolving the company under Section 248 (Section 143).\n",
      "\n",
      "In case of non-compliance with these legal requirements, penalties may apply. For example, if the register is kept closed for more than the allowed limits or without providing previous notice, both the company and its officers will be liable to pay a fine (Section 117)."
     ]
    },
    {
     "name": "stderr",
     "output_type": "stream",
     "text": [
      "\u001b[33m\u001b[39m\n",
      "\u001b[33m▶︎ ACTIONS LOG - 2023-12-29 10:12:02 - INFO \u001b[39m\n",
      "\u001b[33m\n",
      "[2]\n",
      "╰─➤ Refining the existing answer ▷▶\n",
      "\u001b[39m\n",
      "\u001b[33m\u001b[39m\n"
     ]
    },
    {
     "name": "stdout",
     "output_type": "stream",
     "text": [
      " To close a company, you must follow these detailed steps as per the legal requirements:\n",
      "\n",
      "1. Close the register of members or debenture-holders for no more than 45 days in each year, subject to giving a previous notice of at least seven days (Section 117). Failure to comply may result in fines for both the company and its officers.\n",
      "2. Prepare an annual return containing specific details about the company according to the Companies Act 2013. This should include registered office, principal activities, shareholders, directors, debentures, meetings, remuneration, etc., following the prescribed form.\n",
      "3. If the company has been dormant for two consecutive financial years without applying for dormant status during that time, a notice must be sent to the directors and company about removing its name from the register of companies (Section 143).\n",
      "4. Appoint a Company Liquidator responsible for winding up the company according to the Companies Act 2013. The liquidator can be appointed by the Tribunal, company, or creditors depending on the type of winding up.\n",
      "5. Ensure that the name of the company includes \"Limited\" or \"Private Limited.\" The registered office should be located in a specific state and the objects pursued by the company upon incorporation should be outlined. Members' liability should be limited, with contributions to debt payments and winding up costs clearly stated (Section 143).\n",
      "6. The first step to close a company is for directors to prepare a report showing that property and assets have been disposed of, debts fully discharged or discharged to the satisfaction of creditors, and then call a general meeting of the company. At this meeting, members can consider the report and pass a resolution for dissolution of the company (Section 274).\n",
      "\n",
      "In addition to these steps, if the name of the company needs to be restored in the register of companies after being struck off, an application must be filed with the Tribunal within three years from the date of passing the order dissolving the company under Section 248. Non-compliance may result in penalties for the company and its officers."
     ]
    },
    {
     "name": "stderr",
     "output_type": "stream",
     "text": [
      "\u001b[33m\u001b[39m\n",
      "\u001b[33m▶︎ ACTIONS LOG - 2023-12-29 10:12:29 - INFO \u001b[39m\n",
      "\u001b[33m\n",
      "[3]\n",
      "╰─➤ Ask more questions based on new context ▷▶\n",
      "\u001b[39m\n",
      "\u001b[33m\u001b[39m\n"
     ]
    },
    {
     "name": "stdout",
     "output_type": "stream",
     "text": [
      " ['How should assets be disposed of during the process?', 'What are the penalties for not following the proper closing procedure?', 'Who can appoint a Company Liquidator?' ]"
     ]
    },
    {
     "name": "stderr",
     "output_type": "stream",
     "text": [
      "\u001b[33m\u001b[39m\n",
      "\u001b[33m▶︎ ACTIONS LOG - 2023-12-29 10:12:38 - INFO \u001b[39m\n",
      "\u001b[33m\n",
      "[3]\n",
      "╰─➤ Next Question I must ask ▷▶\n",
      "\u001b[39m\n",
      "\u001b[33m\u001b[39m\n"
     ]
    },
    {
     "name": "stdout",
     "output_type": "stream",
     "text": [
      " 3. 'How do I appoint a Company Liquidator?'"
     ]
    },
    {
     "name": "stderr",
     "output_type": "stream",
     "text": [
      "INFO:httpx:HTTP Request: POST https://api.openai.com/v1/embeddings \"HTTP/1.1 200 OK\"\n",
      "\u001b[33m\u001b[39m\n",
      "\u001b[33m▶︎ ACTIONS LOG - 2023-12-29 10:12:41 - INFO \u001b[39m\n",
      "\u001b[33m\n",
      "[3]\n",
      "╰─➤ Answer ▷▶\n",
      "\u001b[39m\n",
      "\u001b[33m\u001b[39m\n"
     ]
    },
    {
     "name": "stdout",
     "output_type": "stream",
     "text": [
      " To appoint a Company Liquidator, follow the steps outlined in Section 312 of the Companies Act 2013. The company must give notice to the Registrar within ten days of the appointment of the Company Liquidator along with their name and particulars. If there is a vacancy in the office of the Company Liquidator, this notice should be provided within ten days of the occurrence of such vacancy. The creditors must approve or appoint the Company Liquidator if they disagree with the company's choice. Additionally, the liquidator must file a declaration disclosing any conflict of interest or lack of independence with both the company and the creditors within seven days of their appointment."
     ]
    },
    {
     "name": "stderr",
     "output_type": "stream",
     "text": [
      "\u001b[33m\u001b[39m\n",
      "\u001b[33m▶︎ ACTIONS LOG - 2023-12-29 10:12:58 - INFO \u001b[39m\n",
      "\u001b[33m\n",
      "[3]\n",
      "╰─➤ Refining the existing answer ▷▶\n",
      "\u001b[39m\n",
      "\u001b[33m\u001b[39m\n"
     ]
    },
    {
     "name": "stdout",
     "output_type": "stream",
     "text": [
      " To close a company, you must follow these detailed steps as per the legal requirements:\n",
      "\n",
      "1. Close the register of members or debenture-holders for no more than 45 days in each year, subject to giving a previous notice of at least seven days (Section 117). Failure to comply may result in fines for both the company and its officers.\n",
      "2. Prepare an annual return containing specific details about the company according to the Companies Act 2013. This should include registered office, principal activities, shareholders, directors, debentures, meetings, remuneration, etc., following the prescribed form.\n",
      "3. If the company has been dormant for two consecutive financial years without applying for dormant status during that time, a notice must be sent to the directors and company about removing its name from the register of companies (Section 143).\n",
      "4. Appoint a Company Liquidator responsible for winding up the company according to the Companies Act 2013. The liquidator can be appointed by the Tribunal, company, or creditors depending on the type of winding up.\n",
      "5. Ensure that the name of the company includes \"Limited\" or \"Private Limited.\" The registered office should be located in a specific state and the objects pursued by the company upon incorporation should be outlined. Members' liability should be limited, with contributions to debt payments and winding up costs clearly stated (Section 143).\n",
      "6. The first step to close a company is for directors to prepare a report showing that property and assets have been disposed of, debts fully discharged or discharged to the satisfaction of creditors, and then call a general meeting of the company. At this meeting, members can consider the report and pass a resolution for dissolution of the company (Section 274).\n",
      "\n",
      "In addition to these steps, when appointing a Company Liquidator, follow the guidelines outlined in Section 312 of the Companies Act 2013. The company must give notice to the Registrar within ten days of the appointment along with their name and particulars. If there is a vacancy in the office of the Company Liquidator, this notice should be provided within ten days of the occurrence of such vacancy. The creditors must approve or appoint the Company Liquidator if they disagree with the company's choice. Additionally, the liquidator must file a declaration disclosing any conflict of interest or lack of independence with both the company and the creditors within seven days of their appointment."
     ]
    },
    {
     "name": "stderr",
     "output_type": "stream",
     "text": [
      "\u001b[33m\u001b[39m\n",
      "\u001b[33m▶︎ ACTIONS LOG - 2023-12-29 10:13:30 - INFO \u001b[39m\n",
      "\u001b[33m\n",
      "[4]\n",
      "╰─➤ Ask more questions based on new context ▷▶\n",
      "\u001b[39m\n",
      "\u001b[33m\u001b[39m\n"
     ]
    },
    {
     "name": "stdout",
     "output_type": "stream",
     "text": [
      " ['What is the difference between dormant and active status for a company?', 'Are there any taxes or fees involved in closing a company?', 'What are the specific duties of a Company Liquidator?']"
     ]
    },
    {
     "name": "stderr",
     "output_type": "stream",
     "text": [
      "\u001b[33m\u001b[39m\n",
      "\u001b[33m▶︎ ACTIONS LOG - 2023-12-29 10:13:39 - INFO \u001b[39m\n",
      "\u001b[33m\n",
      "[4]\n",
      "╰─➤ Next Question I must ask ▷▶\n",
      "\u001b[39m\n",
      "\u001b[33m\u001b[39m\n"
     ]
    },
    {
     "name": "stdout",
     "output_type": "stream",
     "text": [
      " 1. 'What is the first step to close a company?'"
     ]
    },
    {
     "name": "stderr",
     "output_type": "stream",
     "text": [
      "INFO:httpx:HTTP Request: POST https://api.openai.com/v1/embeddings \"HTTP/1.1 200 OK\"\n",
      "\u001b[33m\u001b[39m\n",
      "\u001b[33m▶︎ ACTIONS LOG - 2023-12-29 10:13:43 - INFO \u001b[39m\n",
      "\u001b[33m\n",
      "[4]\n",
      "╰─➤ Answer ▷▶\n",
      "\u001b[39m\n",
      "\u001b[33m\u001b[39m\n"
     ]
    },
    {
     "name": "stdout",
     "output_type": "stream",
     "text": [
      " The first step to close a company is for the directors or the majority of the directors, if there are more than two directors, to make a declaration that they have made a full inquiry into the affairs of the company and formed an opinion that it has no debt or will be able to pay its debts from the proceeds of assets sold in voluntary winding up. This declaration should be verified by an affidavit and made at a meeting of the Board."
     ]
    },
    {
     "name": "stderr",
     "output_type": "stream",
     "text": [
      "\u001b[33m\u001b[39m\n",
      "\u001b[33m▶︎ ACTIONS LOG - 2023-12-29 10:13:58 - INFO \u001b[39m\n",
      "\u001b[33m\n",
      "[4]\n",
      "╰─➤ Refining the existing answer ▷▶\n",
      "\u001b[39m\n",
      "\u001b[33m\u001b[39m\n"
     ]
    },
    {
     "name": "stdout",
     "output_type": "stream",
     "text": [
      " To close a company, you must follow these detailed steps as per the legal requirements:\n",
      "\n",
      "1. Firstly, the directors or the majority of the directors make a declaration that they have made a full inquiry into the affairs of the company and formed an opinion that it has no debt or will be able to pay its debts from the proceeds of assets sold in voluntary winding up. This declaration should be verified by an affidavit and made at a meeting of the Board.\n",
      "2. Close the register of members or debenture-holders for no more than 45 days in each year, subject to giving a previous notice of at least seven days (Section 117). Failure to comply may result in fines for both the company and its officers.\n",
      "3. Prepare an annual return containing specific details about the company according to the Companies Act 2013. This should include registered office, principal activities, shareholders, directors, debentures, meetings, remuneration, etc., following the prescribed form.\n",
      "4. If the company has been dormant for two consecutive financial years without applying for dormant status during that time, a notice must be sent to the directors and company about removing its name from the register of companies (Section 143).\n",
      "5. Appoint a Company Liquidator responsible for winding up the company according to the Companies Act 2013. The liquidator can be appointed by the Tribunal, company, or creditors depending on the type of winding up.\n",
      "6. Ensure that the name of the company includes \"Limited\" or \"Private Limited.\" The registered office should be located in a specific state and the objects pursued by the company upon incorporation should be outlined. Members' liability should be limited, with contributions to debt payments and winding up costs clearly stated (Section 143).\n",
      "7. The first step to close a company is for directors to prepare a report showing that property and assets have been disposed of, debts fully discharged or discharged to the satisfaction of creditors, and then call a general meeting of the company. At this meeting, members can consider the report and pass a resolution for dissolution of the company (Section 274).\n",
      "\n",
      "In addition to these steps, when appointing a Company Liquidator, follow the guidelines outlined in Section 312 of the Companies Act 2013. The company must give notice to the Registrar within ten days of the appointment along with their name and particulars. If there is a vacancy in the office of the Company Liquidator, this notice should be provided within ten days of the occurrence of such vacancy. The creditors must approve or appoint the Company Liquidator if they disagree with the company's choice. Additionally, the liquidator must file a declaration disclosing any conflict of interest or lack of independence with both the company and the creditors within seven days of their appointment."
     ]
    },
    {
     "name": "stderr",
     "output_type": "stream",
     "text": [
      "\u001b[92m\u001b[39m\n",
      "\u001b[92m▶︎ AGENT LOG - 2023-12-29 10:14:33 - INFO \u001b[39m\n",
      "\u001b[92m\n",
      "\n",
      "╰─➤ Final Answer ▷▶\n",
      "  To close a company, you must follow these detailed steps as per the legal requirements:\n",
      "\n",
      "1. Firstly, the directors or the majority of the directors make a declaration that they have made a full inquiry into the affairs of the company and formed an opinion that it has no debt or will be able to pay its debts from the proceeds of assets sold in voluntary winding up. This declaration should be verified by an affidavit and made at a meeting of the Board.\n",
      "2. Close the register of members or debenture-holders for no more than 45 days in each year, subject to giving a previous notice of at least seven days (Section 117). Failure to comply may result in fines for both the company and its officers.\n",
      "3. Prepare an annual return containing specific details about the company according to the Companies Act 2013. This should include registered office, principal activities, shareholders, directors, debentures, meetings, remuneration, etc., following the prescribed form.\n",
      "4. If the company has been dormant for two consecutive financial years without applying for dormant status during that time, a notice must be sent to the directors and company about removing its name from the register of companies (Section 143).\n",
      "5. Appoint a Company Liquidator responsible for winding up the company according to the Companies Act 2013. The liquidator can be appointed by the Tribunal, company, or creditors depending on the type of winding up.\n",
      "6. Ensure that the name of the company includes \"Limited\" or \"Private Limited.\" The registered office should be located in a specific state and the objects pursued by the company upon incorporation should be outlined. Members' liability should be limited, with contributions to debt payments and winding up costs clearly stated (Section 143).\n",
      "7. The first step to close a company is for directors to prepare a report showing that property and assets have been disposed of, debts fully discharged or discharged to the satisfaction of creditors, and then call a general meeting of the company. At this meeting, members can consider the report and pass a resolution for dissolution of the company (Section 274).\n",
      "\n",
      "In addition to these steps, when appointing a Company Liquidator, follow the guidelines outlined in Section 312 of the Companies Act 2013. The company must give notice to the Registrar within ten days of the appointment along with their name and particulars. If there is a vacancy in the office of the Company Liquidator, this notice should be provided within ten days of the occurrence of such vacancy. The creditors must approve or appoint the Company Liquidator if they disagree with the company's choice. Additionally, the liquidator must file a declaration disclosing any conflict of interest or lack of independence with both the company and the creditors within seven days of their appointment.\u001b[39m\n",
      "\u001b[92m\u001b[39m\n"
     ]
    }
   ],
   "source": [
    "goal = \"Explain in detail the process for closing a private limited company?\"\n",
    "\n",
    "agent_settings = {\n",
    "    \"model\": \"mistral-openorca:latest\",\n",
    "    \"max_iter\": 4,\n",
    "    \"num_questions_per_iter\": 3,\n",
    "    \"num_retry_on_failure\": 3,\n",
    "    \"verbose\": False,\n",
    "    \"stream\": True,\n",
    "    \"add_question_embeddings\": False,\n",
    "    \"refine_on_iterations\": True, \n",
    "    ## refine_on_iterations Must be true if compile answer is set to false. \n",
    "    ## Otherwise it can be set to true or false. \n",
    "    \"compile_final_answer\": True, \n",
    "}\n",
    "\n",
    "agent = Agent(\n",
    "    goal,\n",
    "    retriever=neo4j_retriever,\n",
    "    agent_settings=agent_settings,\n",
    ")\n",
    "\n",
    "agent.run()\n"
   ]
  },
  {
   "cell_type": "markdown",
   "metadata": {},
   "source": [
    "## Visualisation"
   ]
  },
  {
   "cell_type": "code",
   "execution_count": 8,
   "metadata": {},
   "outputs": [
    {
     "data": {
      "text/plain": [
       "['None ---> 0 - I want to know how to close a company, explain in detail?',\n",
       " '0 ---> 1 - What is the first step to close a company?',\n",
       " '0 ---> 2 - What are the legal requirements for closing a company?',\n",
       " '0 ---> 3 - How do I appoint a Company Liquidator?',\n",
       " '1 ---> 4 - What is the second step to close a company?',\n",
       " '1 ---> 5 - How should assets be disposed of during the process?',\n",
       " '1 ---> 6 - What are the penalties for not following the proper closing procedure?',\n",
       " '2 ---> 7 - How should assets be disposed of during the process?',\n",
       " '2 ---> 8 - What are the penalties for not following the proper closing procedure?',\n",
       " '2 ---> 9 - Who can appoint a Company Liquidator?',\n",
       " '3 ---> 10 - What is the difference between dormant and active status for a company?',\n",
       " '3 ---> 11 - Are there any taxes or fees involved in closing a company?',\n",
       " '3 ---> 12 - What are the specific duties of a Company Liquidator?']"
      ]
     },
     "execution_count": 8,
     "metadata": {},
     "output_type": "execute_result"
    }
   ],
   "source": [
    "rmo = agent.run_model\n",
    "[(f\"{q.parent_id} ---> { q.id} - {q.question}\") for q in rmo.get_all_questions()]"
   ]
  },
  {
   "cell_type": "code",
   "execution_count": 9,
   "metadata": {},
   "outputs": [],
   "source": [
    "qn = rmo.save()"
   ]
  },
  {
   "cell_type": "code",
   "execution_count": 10,
   "metadata": {},
   "outputs": [
    {
     "data": {
      "text/plain": [
       "'c76f6cfa-36cc-440e-a80d-c11e52f9ca26'"
      ]
     },
     "execution_count": 10,
     "metadata": {},
     "output_type": "execute_result"
    }
   ],
   "source": [
    "qn"
   ]
  },
  {
   "cell_type": "code",
   "execution_count": null,
   "metadata": {},
   "outputs": [],
   "source": []
  }
 ],
 "metadata": {
  "kernelspec": {
   "display_name": "OpenAI@3111",
   "language": "python",
   "name": "python3"
  },
  "language_info": {
   "codemirror_mode": {
    "name": "ipython",
    "version": 3
   },
   "file_extension": ".py",
   "mimetype": "text/x-python",
   "name": "python",
   "nbconvert_exporter": "python",
   "pygments_lexer": "ipython3",
   "version": "3.11.4"
  }
 },
 "nbformat": 4,
 "nbformat_minor": 2
}
