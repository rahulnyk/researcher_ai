{
 "cells": [
  {
   "cell_type": "code",
   "execution_count": 1,
   "metadata": {},
   "outputs": [],
   "source": [
    "from dotenv import load_dotenv\n",
    "load_dotenv(\"../.env\")\n",
    "import os\n",
    "from agent.agent import Agent"
   ]
  },
  {
   "cell_type": "code",
   "execution_count": 2,
   "metadata": {},
   "outputs": [],
   "source": [
    "## PG Retriever\n",
    "from agent.retrievers.pg_retriever import PGRetriever\n",
    "DB_PASSWORD = os.environ[\"SUPABASE_PASSWORD\"]\n",
    "DB_DBUSER = os.environ[\"SUPABASE_DBUSER\"]\n",
    "DB_DATABASE = os.environ[\"SUPABASE_DATABASE\"]\n",
    "DB_HOST = os.environ[\"SUPABASE_HOST\"]\n",
    "DB_PORT = os.environ[\"SUPABASE_PORT\"]\n",
    "\n",
    "DB_CONN_STRING = (\n",
    "    f\"postgresql://{DB_DBUSER}:{DB_PASSWORD}@{DB_HOST}:{DB_PORT}/{DB_DATABASE}\"\n",
    ")\n",
    "\n",
    "collection = 'legal_docs'\n",
    "pg_retriever = PGRetriever(conn_params=DB_CONN_STRING, collection=collection)\n",
    "# collection = 'mahabharata'\n"
   ]
  },
  {
   "cell_type": "code",
   "execution_count": 3,
   "metadata": {},
   "outputs": [],
   "source": [
    "# Neo4j Retriever\n",
    "from agent.retrievers.neo4j_retriever import Neo4jRetriever\n",
    "\n",
    "neo4j_retriever = Neo4jRetriever(\n",
    "    conn_params={\n",
    "        \"username\": os.environ[\"NEO4J_USERNAME\"],\n",
    "        \"password\": os.environ[\"NEO4J_PASSWORD\"],\n",
    "        \"uri\": os.environ[\"NEO4J_URI\"],\n",
    "    },\n",
    "    collection='documents'\n",
    ")"
   ]
  },
  {
   "cell_type": "markdown",
   "metadata": {},
   "source": [
    "## Run the Agent"
   ]
  },
  {
   "cell_type": "code",
   "execution_count": 4,
   "metadata": {},
   "outputs": [
    {
     "name": "stderr",
     "output_type": "stream",
     "text": [
      "\u001b[92m\u001b[39m\n",
      "\u001b[92m▶︎ AGENT LOG - 2023-12-22 21:54:47 - INFO \u001b[39m\n",
      "\u001b[92mGoal:  What is the process for winding up a private limited company?\u001b[39m\n",
      "\u001b[92m\u001b[39m\n",
      "\u001b[33m\u001b[39m\n",
      "\u001b[33m▶︎ ACTIONS LOG - 2023-12-22 21:54:47 - INFO \u001b[39m\n",
      "\u001b[33m\n",
      "╰─➤ Initial Hypothesis ▷▶\n",
      "\u001b[39m\n",
      "\u001b[33m\u001b[39m\n"
     ]
    },
    {
     "name": "stdout",
     "output_type": "stream",
     "text": [
      " Concepts: \n",
      "- Winding up\n",
      "- Private limited company\n",
      "- Process\n",
      "\n",
      "Context: \n",
      "- Information on the legal procedures involved in closing a private limited company"
     ]
    },
    {
     "name": "stderr",
     "output_type": "stream",
     "text": [
      "INFO:httpx:HTTP Request: POST https://api.openai.com/v1/embeddings \"HTTP/1.1 200 OK\"\n",
      "\u001b[92m\u001b[39m\n",
      "\u001b[92m▶︎ AGENT LOG - 2023-12-22 21:54:52 - INFO \u001b[39m\n",
      "\u001b[92m\n",
      "Initial Answer:\u001b[39m\n",
      "\u001b[92m\u001b[39m\n",
      "\u001b[33m\u001b[39m\n",
      "\u001b[33m▶︎ ACTIONS LOG - 2023-12-22 21:54:52 - INFO \u001b[39m\n",
      "\u001b[33m\n",
      "[0]\n",
      "╰─➤ Answer ▷▶\n",
      "\u001b[39m\n",
      "\u001b[33m\u001b[39m\n"
     ]
    },
    {
     "name": "stdout",
     "output_type": "stream",
     "text": [
      " This text is related to the Companies Act 2013. It describes various aspects of winding up a company, including modes of winding up and circumstances in which a company may be wound up by the Tribunal. The act also mentions the Rehabilitation and Insolvency Fund and its purpose for rehabilitating, reviving, and liquidating sick companies."
     ]
    },
    {
     "name": "stderr",
     "output_type": "stream",
     "text": [
      "\u001b[33m\u001b[39m\n",
      "\u001b[33m▶︎ ACTIONS LOG - 2023-12-22 21:55:02 - INFO \u001b[39m\n",
      "\u001b[33m\n",
      "[1]\n",
      "╰─➤ Ask more questions based on new context ▷▶\n",
      "\u001b[39m\n",
      "\u001b[33m\u001b[39m\n"
     ]
    },
    {
     "name": "stdout",
     "output_type": "stream",
     "text": [
      " ['What are the different modes of winding up a private limited company?', 'What are the circumstances in which a company may be wound up by the Tribunal?', 'How does the Rehabilitation and Insolvency Fund contribute to the process of winding up a company?']"
     ]
    },
    {
     "name": "stderr",
     "output_type": "stream",
     "text": [
      "\u001b[33m\u001b[39m\n",
      "\u001b[33m▶︎ ACTIONS LOG - 2023-12-22 21:55:07 - INFO \u001b[39m\n",
      "\u001b[33m\n",
      "[1]\n",
      "╰─➤ Next Question I must ask ▷▶\n",
      "\u001b[39m\n",
      "\u001b[33m\u001b[39m\n"
     ]
    },
    {
     "name": "stdout",
     "output_type": "stream",
     "text": [
      " 1. 'What are the different modes of winding up a private limited company?'"
     ]
    },
    {
     "name": "stderr",
     "output_type": "stream",
     "text": [
      "INFO:httpx:HTTP Request: POST https://api.openai.com/v1/embeddings \"HTTP/1.1 200 OK\"\n",
      "\u001b[33m\u001b[39m\n",
      "\u001b[33m▶︎ ACTIONS LOG - 2023-12-22 21:55:11 - INFO \u001b[39m\n",
      "\u001b[33m\n",
      "[1]\n",
      "╰─➤ Answer ▷▶\n",
      "\u001b[39m\n",
      "\u001b[33m\u001b[39m\n"
     ]
    },
    {
     "name": "stdout",
     "output_type": "stream",
     "text": [
      " 1. Company Liquidator's appointment and removal\n",
      "   - The company or the creditors may appoint a Company Liquidator.\n",
      "   - A Company Liquidator can be removed by an order of the Tribunal.\n",
      "   - If a vacancy occurs, it must be filled within ten days.\n",
      "   \n",
      " 2. Reporting to the Registrar\n",
      "   - The company must give notice to the Registrar of the appointment of a Company Liquidator and any subsequent vacancies.\n",
      "   - The Company Liquidator is required to send the final winding up accounts to the Registrar along with a return of each meeting, copies of resolutions passed in the meetings, and an application under sub-section (4).\n",
      "\n",
      " 3. Winding up process\n",
      "   - The Company Liquidator must prepare a report showing that the company's property and assets have been disposed of and its debt is fully discharged or satisfied.\n",
      "   - A general meeting must be called to lay the final winding up accounts before it and give any explanation therefor.\n",
      "   - If the majority of members are satisfied with the company's winding up, a resolution for dissolution may be passed.\n",
      "   - The Company Liquidator must file an application along with his report under sub-section (1) in such manner as may be prescribed, along with the books and papers of the company relating to the winding up, before the Tribunal for passing an order of dissolution.\n",
      "   - The Tribunal has sixty days to pass an order dissolving the company after receiving the application.\n",
      "   - The Registrar publishes a notice in the Official Gazette that the company is dissolved.\n",
      "\n",
      " 4. Power to accept shares, etc., as consideration for sale of property of the company\n",
      "   - If a company is being wound up voluntarily and its business or property is transferred or sold to another company, the Company Liquidator may receive compensation in the form of shares, policies, or other like interests in the transferee company for distribution among the members of the transferor company.\n",
      "   - The Company Liquidator may enter into an arrangement whereby members of the transferor company may participate in profits or receive benefits from the transferee company instead of receiving cash compensation.\n",
      "   - Any such arrangement must be made with the consent of secured creditors and will be binding on the members of the transferor company."
     ]
    },
    {
     "name": "stderr",
     "output_type": "stream",
     "text": [
      "\u001b[33m\u001b[39m\n",
      "\u001b[33m▶︎ ACTIONS LOG - 2023-12-22 21:55:42 - INFO \u001b[39m\n",
      "\u001b[33m\n",
      "[1]\n",
      "╰─➤ Refining the existing answer ▷▶\n",
      "\u001b[39m\n",
      "\u001b[33m\u001b[39m\n"
     ]
    },
    {
     "name": "stdout",
     "output_type": "stream",
     "text": [
      " The process for winding up a private limited company, as outlined in the Companies Act 2013, involves several key steps. Firstly, a Company Liquidator must be appointed and removed when necessary. The company must also report to the Registrar throughout the winding up process.\n",
      "\n",
      "The actual winding up process includes the Company Liquidator preparing a report demonstrating that all assets have been disposed of and debts resolved. A general meeting is then called for the final winding up accounts to be reviewed. If the majority of members are satisfied, a resolution for dissolution may be passed. The Company Liquidator must file an application along with their report under sub-section (1), accompanied by necessary books and papers relating to the winding up.\n",
      "\n",
      "The Tribunal has 60 days to pass an order dissolving the company after receiving the application. Finally, the Registrar publishes a notice in the Official Gazette, indicating that the company is now dissolved. If a voluntary winding up and transfer of business or property occur, shares, policies, or other interests may be accepted as consideration for compensation. This arrangement requires the consent of secured creditors and is binding on the members of the transferor company."
     ]
    },
    {
     "name": "stderr",
     "output_type": "stream",
     "text": [
      "\u001b[33m\u001b[39m\n",
      "\u001b[33m▶︎ ACTIONS LOG - 2023-12-22 21:55:58 - INFO \u001b[39m\n",
      "\u001b[33m\n",
      "[2]\n",
      "╰─➤ Ask more questions based on new context ▷▶\n",
      "\u001b[39m\n",
      "\u001b[33m\u001b[39m\n"
     ]
    },
    {
     "name": "stdout",
     "output_type": "stream",
     "text": [
      " ['What are the different modes of winding up a private limited company?', 'How does the Rehabilitation and Insolvency Fund contribute to the process of winding up a company?']"
     ]
    },
    {
     "name": "stderr",
     "output_type": "stream",
     "text": [
      "\u001b[33m\u001b[39m\n",
      "\u001b[33m▶︎ ACTIONS LOG - 2023-12-22 21:56:06 - INFO \u001b[39m\n",
      "\u001b[33m\n",
      "[2]\n",
      "╰─➤ Next Question I must ask ▷▶\n",
      "\u001b[39m\n",
      "\u001b[33m\u001b[39m\n"
     ]
    },
    {
     "name": "stdout",
     "output_type": "stream",
     "text": [
      " 4. 'What are the different modes of winding up a private limited company?'"
     ]
    },
    {
     "name": "stderr",
     "output_type": "stream",
     "text": [
      "INFO:httpx:HTTP Request: POST https://api.openai.com/v1/embeddings \"HTTP/1.1 200 OK\"\n",
      "\u001b[33m\u001b[39m\n",
      "\u001b[33m▶︎ ACTIONS LOG - 2023-12-22 21:56:10 - INFO \u001b[39m\n",
      "\u001b[33m\n",
      "[2]\n",
      "╰─➤ Answer ▷▶\n",
      "\u001b[39m\n",
      "\u001b[33m\u001b[39m\n"
     ]
    },
    {
     "name": "stdout",
     "output_type": "stream",
     "text": [
      " The Company Liquidator is responsible for the winding up of a company and must perform various duties during this process. These include preparing reports, calling meetings, presenting resolutions, and filing applications with the Tribunal. The Company Liquidator has the authority to accept shares, etc., as consideration for the sale of property of the company, subject to certain conditions and regulations."
     ]
    },
    {
     "name": "stderr",
     "output_type": "stream",
     "text": [
      "\u001b[33m\u001b[39m\n",
      "\u001b[33m▶︎ ACTIONS LOG - 2023-12-22 21:56:21 - INFO \u001b[39m\n",
      "\u001b[33m\n",
      "[2]\n",
      "╰─➤ Refining the existing answer ▷▶\n",
      "\u001b[39m\n",
      "\u001b[33m\u001b[39m\n"
     ]
    },
    {
     "name": "stdout",
     "output_type": "stream",
     "text": [
      " The process for winding up a private limited company involves several key steps, with the Company Liquidator playing a crucial role throughout. As outlined in the Companies Act 2013, the Liquidator is responsible for preparing reports on asset disposal and debt resolution, calling meetings to review final winding up accounts, and obtaining the necessary consent from secured creditors if shares or other interests are being transferred as consideration for compensation. The Tribunal has the responsibility of passing an order for dissolution within 60 days after receiving the application filed by the Liquidator, accompanied by relevant books and papers relating to the winding up process. Once this step is completed, the Registrar publishes a notice in the Official Gazette, signaling that the company has been dissolved."
     ]
    },
    {
     "name": "stderr",
     "output_type": "stream",
     "text": [
      "\u001b[33m\u001b[39m\n",
      "\u001b[33m▶︎ ACTIONS LOG - 2023-12-22 21:56:31 - INFO \u001b[39m\n",
      "\u001b[33m\n",
      "[3]\n",
      "╰─➤ Ask more questions based on new context ▷▶\n",
      "\u001b[39m\n",
      "\u001b[33m\u001b[39m\n"
     ]
    },
    {
     "name": "stdout",
     "output_type": "stream",
     "text": [
      " ['What are the duties of a Company Liquidator during the winding up process?', 'Are there any conditions and regulations that must be followed when transferring shares as consideration for the sale of company property?', 'How long does it take for the Tribunal to pass an order for dissolution after receiving the application filed by the Liquidator?']"
     ]
    },
    {
     "name": "stderr",
     "output_type": "stream",
     "text": [
      "\u001b[33m\u001b[39m\n",
      "\u001b[33m▶︎ ACTIONS LOG - 2023-12-22 21:56:38 - INFO \u001b[39m\n",
      "\u001b[33m\n",
      "[3]\n",
      "╰─➤ Next Question I must ask ▷▶\n",
      "\u001b[39m\n",
      "\u001b[33m\u001b[39m\n"
     ]
    },
    {
     "name": "stdout",
     "output_type": "stream",
     "text": [
      " 6. 'What are the duties of a Company Liquidator during the winding up process?'"
     ]
    },
    {
     "name": "stderr",
     "output_type": "stream",
     "text": [
      "INFO:httpx:HTTP Request: POST https://api.openai.com/v1/embeddings \"HTTP/1.1 200 OK\"\n",
      "\u001b[33m\u001b[39m\n",
      "\u001b[33m▶︎ ACTIONS LOG - 2023-12-22 21:56:42 - INFO \u001b[39m\n",
      "\u001b[33m\n",
      "[3]\n",
      "╰─➤ Answer ▷▶\n",
      "\u001b[39m\n",
      "\u001b[33m\u001b[39m\n"
     ]
    },
    {
     "name": "stdout",
     "output_type": "stream",
     "text": [
      " The text provided appears to be a legal document, specifically a section of the Companies Act 2013. This legislation provides guidelines and regulations for the winding up and liquidation processes of companies.\n",
      "\n",
      "From the provided text, it is clear that the Company Liquidator has significant roles and responsibilities in both compulsory (Section 290) and voluntary windings up (Section 314). These include preparing statements of accounts, settling lists of contributories, calling meetings, maintaining books of account, reporting on progress, submitting reports to the Tribunal if fraud is suspected, and adhering to strict punishments for non-compliance.\n",
      "\n",
      "In the context provided, the Company Liquidator's role seems to be that of an impartial agent who ensures the proper handling of a company's winding up process in accordance with prescribed regulations."
     ]
    },
    {
     "name": "stderr",
     "output_type": "stream",
     "text": [
      "\u001b[33m\u001b[39m\n",
      "\u001b[33m▶︎ ACTIONS LOG - 2023-12-22 21:57:00 - INFO \u001b[39m\n",
      "\u001b[33m\n",
      "[3]\n",
      "╰─➤ Refining the existing answer ▷▶\n",
      "\u001b[39m\n",
      "\u001b[33m\u001b[39m\n"
     ]
    },
    {
     "name": "stdout",
     "output_type": "stream",
     "text": [
      " The process for winding up a private limited company, as outlined in the Companies Act 2013 and described in the context provided, involves several key steps with the Company Liquidator playing a crucial role throughout. The Liquidator is responsible for preparing reports on asset disposal and debt resolution, calling meetings to review final winding up accounts, obtaining consent from secured creditors if shares or other interests are being transferred as consideration for compensation, and submitting an application for dissolution to the Tribunal along with relevant books and papers relating to the winding up process.\n",
      "\n",
      "The Tribunal has the responsibility of passing an order for dissolution within 60 days after receiving the Liquidator's application. Once this step is completed, the Registrar publishes a notice in the Official Gazette, signaling that the company has been dissolved. The Company Liquidator, as impartial agent, ensures that the winding up process adheres to prescribed regulations and guidelines, ultimately leading to the dissolution of the private limited company."
     ]
    },
    {
     "name": "stderr",
     "output_type": "stream",
     "text": [
      "\u001b[33m\u001b[39m\n",
      "\u001b[33m▶︎ ACTIONS LOG - 2023-12-22 21:57:12 - INFO \u001b[39m\n",
      "\u001b[33m\n",
      "[4]\n",
      "╰─➤ Ask more questions based on new context ▷▶\n",
      "\u001b[39m\n",
      "\u001b[33m\u001b[39m\n"
     ]
    },
    {
     "name": "stdout",
     "output_type": "stream",
     "text": [
      " ['How do the roles and responsibilities of a Company Liquidator relate to the winding up process?',\n",
      " 'What are the key steps in both voluntary and compulsory winding up processes for a private limited company?',\n",
      " 'How does the Rehabilitation and Insolvency Fund interact with the winding up process, particularly during dissolution?']"
     ]
    },
    {
     "name": "stderr",
     "output_type": "stream",
     "text": [
      "\u001b[33m\u001b[39m\n",
      "\u001b[33m▶︎ ACTIONS LOG - 2023-12-22 21:57:20 - INFO \u001b[39m\n",
      "\u001b[33m\n",
      "[4]\n",
      "╰─➤ Next Question I must ask ▷▶\n",
      "\u001b[39m\n",
      "\u001b[33m\u001b[39m\n"
     ]
    },
    {
     "name": "stdout",
     "output_type": "stream",
     "text": [
      " 10. 'What are the key steps in both voluntary and compulsory winding up processes for a private limited company?'"
     ]
    },
    {
     "name": "stderr",
     "output_type": "stream",
     "text": [
      "INFO:httpx:HTTP Request: POST https://api.openai.com/v1/embeddings \"HTTP/1.1 200 OK\"\n",
      "\u001b[33m\u001b[39m\n",
      "\u001b[33m▶︎ ACTIONS LOG - 2023-12-22 21:57:25 - INFO \u001b[39m\n",
      "\u001b[33m\n",
      "[4]\n",
      "╰─➤ Answer ▷▶\n",
      "\u001b[39m\n",
      "\u001b[33m\u001b[39m\n"
     ]
    },
    {
     "name": "stdout",
     "output_type": "stream",
     "text": [
      " 1. The Tribunal shall, before passing any order under this section, provide a reasonable opportunity of being heard to the provisional liquidator or, as the case may be, Company Liquidator.\n",
      "\n",
      "2. Where the Tribunal makes an order for appointment of provisional liquidator or for the winding up of a company, it shall, within a period not exceeding seven days from the date of passing of the order, cause intimation thereof to be sent to the Company Liquidator or provisional liquidator, as the case may be, and the Registrar.\n",
      "\n",
      "3. The winding up order shall be deemed to be a notice of discharge to the officers, employees and workmen of the company, except when the business of the company is continued.\n",
      "\n",
      "4. Within three weeks from the date of passing of winding up order, the Company Liquidator shall make an application to the Tribunal for constitution of a winding up committee to assist and monitor the progress of liquidation proceedings by the Company Liquidator in carrying out the function as provided in sub-section (5) and such winding up committee shall comprise of the following persons, namely:\n",
      "\n",
      "   (i) Official Liquidator attached to the Tribunal;\n",
      "   (ii) nominee of secured creditors; and\n",
      "   (iii) a professional nominated by the Tribunal.\n",
      "\n",
      "5. The Company Liquidator shall be the convener of the meetings of the winding up committee which shall assist and monitor the liquidation proceedings in following areas of liquidation functions, namely:\n",
      "\n",
      "   (i) taking over assets;\n",
      "   (ii) examination of the statement of affairs;\n",
      "   (iii) recovery of property, cash or any other assets of the company including benefits derived therefrom;\n",
      "   (iv) review of audit reports and accounts of the company;\n",
      "   (v) sale of assets;\n",
      "   (vi) finalisation of list of creditors and contributories;\n",
      "   (vii) compromise, abandonment and settlement of claims;\n",
      "   (viii) payment of dividends, if any; and\n",
      "   (ix) any other function, as the Tribunal may direct from time to time.\n",
      "\n",
      "6. The Company Liquidator shall place before the Tribunal a report along with minutes of the meetings of the committee on monthly basis duly signed by the members present in the meeting for consideration till the final report for dissolution of the company is submitted before the Tribunal.\n",
      "\n",
      "7. The Company Liquidator shall prepare the draft final report for consideration and approval of the winding up committee.\n",
      "\n",
      "8. The final report so approved by the winding up committee shall be submitted by the Company Liquidator before the Tribunal for passing of a dissolution order in respect of the company.\n",
      "\n",
      "9. The order for the winding up of a company shall operate in favour of all the creditors and all contributories of the company as if it had been made out on the joint petition of creditors and contributories."
     ]
    },
    {
     "name": "stderr",
     "output_type": "stream",
     "text": [
      "\u001b[33m\u001b[39m\n",
      "\u001b[33m▶︎ ACTIONS LOG - 2023-12-22 21:58:05 - INFO \u001b[39m\n",
      "\u001b[33m\n",
      "[4]\n",
      "╰─➤ Refining the existing answer ▷▶\n",
      "\u001b[39m\n",
      "\u001b[33m\u001b[39m\n"
     ]
    },
    {
     "name": "stdout",
     "output_type": "stream",
     "text": [
      " The process for winding up a private limited company, as outlined in the Companies Act 2013 and described in the context provided, involves several key steps with the Company Liquidator playing a crucial role throughout. The Liquidator is responsible for preparing reports on asset disposal and debt resolution, calling meetings to review final winding up accounts, obtaining consent from secured creditors if shares or other interests are being transferred as consideration for compensation, and submitting an application for dissolution to the Tribunal along with relevant books and papers relating to the winding up process.\n",
      "\n",
      "1. After the winding up order is passed by the Tribunal, a provisional liquidator or Company Liquidator is appointed to take over the management of the company.\n",
      "\n",
      "2. The winding up order serves as a notice of discharge for officers, employees, and workmen of the company, unless the business continues.\n",
      "\n",
      "3. Within three weeks, the Company Liquidator must apply to the Tribunal for the constitution of a winding up committee to assist and monitor the progress of the liquidation proceedings by the Company Liquidator in carrying out various functions.\n",
      "\n",
      "4. The winding up committee assists in tasks such as taking over assets, examining statements of affairs, recovering property or assets, reviewing audit reports, selling assets, finalizing lists of creditors and contributories, compromising claims, settling dividends, and any other functions directed by the Tribunal.\n",
      "\n",
      "5. The Company Liquidator must place a report with minutes of committee meetings before the Tribunal on a monthly basis until the final dissolution report is submitted for approval.\n",
      "\n",
      "6. The final report, approved by the winding up committee, is then submitted by the Company Liquidator to the Tribunal for passing a dissolution order.\n",
      "\n",
      "7. The order for winding up a company operates in favor of all creditors and contributories as if it had been made on the joint petition of both parties."
     ]
    },
    {
     "name": "stderr",
     "output_type": "stream",
     "text": [
      "\u001b[33m\u001b[39m\n",
      "\u001b[33m▶︎ ACTIONS LOG - 2023-12-22 21:58:31 - INFO \u001b[39m\n",
      "\u001b[33m\n",
      "[4]\n",
      "╰─➤ Compiling the final Answer ▷▶\n",
      "\u001b[39m\n",
      "\u001b[33m\u001b[39m\n"
     ]
    },
    {
     "name": "stdout",
     "output_type": "stream",
     "text": [
      " The role of the Company Liquidator in winding up a private limited company is crucial throughout the process, as they are responsible for various tasks including preparing reports on asset disposal and debt resolution, calling meetings to review final winding-up accounts, obtaining consent from secured creditors if shares or other interests are being transferred as consideration for compensation, and submitting an application for dissolution to the Tribunal along with relevant books and papers relating to the winding up process. The order for winding up a company, once passed by the Tribunal, operates in favor of all creditors and contributories. The Company Liquidator must work closely with a winding-up committee that assists in tasks such as taking over assets, examining statements of affairs, recovering property or assets, reviewing audit reports, selling assets, finalizing lists of creditors and contributories, compromising claims, settling dividends, and any other functions directed by the Tribunal. The Liquidator must provide regular reports to the Tribunal until the final dissolution report is submitted for approval."
     ]
    },
    {
     "name": "stderr",
     "output_type": "stream",
     "text": [
      "\u001b[92m\u001b[39m\n",
      "\u001b[92m▶︎ AGENT LOG - 2023-12-22 21:58:52 - INFO \u001b[39m\n",
      "\u001b[92m\n",
      "\n",
      "╰─➤ Final Answer ▷▶\n",
      " {self.run_model.find_question(0).answer}\u001b[39m\n",
      "\u001b[92m\u001b[39m\n"
     ]
    }
   ],
   "source": [
    "goal = \"What is the process for winding up a private limited company?\"\n",
    "\n",
    "agent_settings = {\n",
    "    \"model\": \"mistral-openorca:latest\",\n",
    "    \"max_iter\": 4,\n",
    "    \"num_questions_per_iter\": 3,\n",
    "    \"num_retry_on_failure\": 3,\n",
    "    \"verbose\": False,\n",
    "    \"stream\": True,\n",
    "    \"add_question_embeddings\": False,\n",
    "    \"refine_on_iterations\": True, \n",
    "    ## refine_on_iterations Must be true if compile answer is set to false. \n",
    "    ## Otherwise it can be set to true or false. \n",
    "    \"compile_final_answer\": False, \n",
    "}\n",
    "\n",
    "agent = Agent(\n",
    "    goal,\n",
    "    retriever=neo4j_retriever,\n",
    "    agent_settings=agent_settings,\n",
    ")\n",
    "\n",
    "agent.run()\n"
   ]
  },
  {
   "cell_type": "markdown",
   "metadata": {},
   "source": [
    "## Visualisation"
   ]
  },
  {
   "cell_type": "code",
   "execution_count": 5,
   "metadata": {},
   "outputs": [],
   "source": [
    "rm = agent.run_model"
   ]
  },
  {
   "cell_type": "code",
   "execution_count": 6,
   "metadata": {},
   "outputs": [],
   "source": [
    "qs = [(f\"{q.parent_id} ---> { q.id} - {q.question}\") for q in rm.get_all_questions()]"
   ]
  },
  {
   "cell_type": "code",
   "execution_count": 7,
   "metadata": {},
   "outputs": [
    {
     "data": {
      "text/plain": [
       "['None ---> 0 - What is the process for winding up a company?',\n",
       " '0 ---> 1 - What is the legal process for winding up a company through voluntary means?',\n",
       " '0 ---> 2 - What are the steps involved in initiating the winding-up process by the Tribunal?',\n",
       " '0 ---> 3 - How does the Rehabilitation and Insolvency Fund play a role in the dissolution of a company?',\n",
       " '1 ---> 4 - What is the role of a winding-up committee in the liquidation process?',\n",
       " '1 ---> 5 - How does the Tribunal monitor and supervise the work of the Company Liquidator during company dissolution?',\n",
       " '1 ---> 6 - What are the key differences between voluntary and compulsory winding up processes for a company?',\n",
       " '2 ---> 7 - What are the key differences between voluntary and compulsory winding up processes for a company?',\n",
       " '2 ---> 8 - How does the Tribunal monitor and supervise the work of the Company Liquidator during company dissolution?',\n",
       " '2 ---> 9 - What is the role of a winding-up committee in the liquidation process?',\n",
       " '3 ---> 10 - What are the main steps involved in the process of winding up a company?',\n",
       " '3 ---> 11 - How is the role of a secured creditor determined during the winding-up process?',\n",
       " '3 ---> 12 - What are the responsibilities of the winding up committee and Company Liquidator in assisting the Tribunal for company dissolution?']"
      ]
     },
     "execution_count": 7,
     "metadata": {},
     "output_type": "execute_result"
    }
   ],
   "source": [
    "qs"
   ]
  },
  {
   "cell_type": "code",
   "execution_count": 11,
   "metadata": {},
   "outputs": [
    {
     "name": "stdout",
     "output_type": "stream",
     "text": [
      " Concepts:\n",
      "- Winding up a company\n",
      "- Process\n",
      "\n",
      "Context:\n",
      "- Legal requirements for winding up a company\n",
      "- Steps involved in the process of dissolution \n",
      "\n",
      "======\n",
      "\n",
      "What is the process for winding up a company?\n",
      " Concepts:\n",
      "- Winding up a company\n",
      "- Process\n",
      "\n",
      "Context:\n",
      "- Legal requirements for winding up a company\n",
      "- Steps involved in the process of dissolution \n",
      "\n",
      "======\n",
      "\n",
      " 1. Section 269 states that there will be a Rehabilitation and Insolvency Fund created for the purposes of rehabilitating, reviving, and liquidating sick companies. This fund will receive contributions from various sources, including grants, company deposits, amounts given from other sources, and income from investment. The Central Government will appoint an administrator to manage the fund. In the event of proceedings initiated under this chapter or Chapter XX, a company that has contributed to the fund may apply for the withdrawal of funds not exceeding its contribution for purposes such as paying workers, protecting assets, or meeting incidental costs during the proceedings.\n",
      "\n",
      "2. Winding up is covered under Chapter XX in the Companies Act 2013. This can occur through either the Tribunal or voluntary winding up (section 270). The provisions of this act apply to the winding up of companies in any of the modes specified under sub-section (1).\n",
      "\n",
      "Part I: Winding up by the Tribunal\n",
      "Section 271 lists the circumstances where a company may be wound up by the Tribunal, including:\n",
      "- If the company is unable to pay its debts.\n",
      "- If the company has resolved by special resolution that it should be wound up by the Tribunal.\n",
      "- If the company has acted against the interests of the sovereignty and integrity of India, the security of the State, friendly relations with foreign States, public order, decency or morality.\n",
      "- If the Tribunal has ordered the winding up under Chapter XIX.\n",
      "- If the Registrar or an authorised person makes an application to the Tribunal which believes that the company's affairs have been conducted fraudulently, it was formed for fraudulent and unlawful purposes, or the persons involved in its formation or management have been guilty of fraud, misfeasance, or misconduct.\n",
      "- If the company has defaulted in filing financial statements or annual returns with the Registrar for immediately preceding five consecutive financial years.\n",
      "- If the Tribunal finds it just and equitable that the company should be wound up. \n",
      "\n",
      "======\n",
      "\n",
      " 168 (4) The Tribunal shall, before passing any order under this section, provide a reasonable opportunity of being heard to the provisional liquidator or, as the case may be, Company Liquidator.\n",
      "277. Intimation to Company Liquidator, provisional liquidator and Registrar. — (1) Where the Tribunal makes an order for appointment of provisional liquidator or for the winding up of a company, it shall, within a period not exceeding seven days from the date of passing of the order, cause intimation thereof to be sent to the Company Liquidator or provisional liquidator, as the case may be, and the Registrar.\n",
      "(2) On receipt of the copy of order of appointment of provisional liquidator or winding up order, the Registrar shall make an endorsement to that effect in his records relating to the company and notify in the Official Gazette that such an order has been made and in the case of a listed company, the Registrar shall intimate about such appointment or order, as the case may be, to the stock exchange or exchanges where the securities of the company are listed.\n",
      "(3) The winding up order shall be deemed to be a notice of discharge to the officers, employees and workmen of the company, except when the business of the company is continued.\n",
      "(4) Within three weeks from the date of passing of winding up order, the Company Liquidator shall make an application to the Tribunal for constitution of a winding up committee to assist and monitor the progress of liquidation proceedings by the Company Liquidator in carrying out the function as provided in sub-section (5) and such winding up committee shall comprise of the following persons, namely:—\n",
      "(i) Official Liquidator attached to the Tribunal;\n",
      "(ii) nominee of secured creditors; and\n",
      "(iii) a professional nominated by the Tribunal.\n",
      "(5) The Company Liquidator shall be the convener of the meetings of the winding up committee which shall assist and monitor the liquidation proceedings in following areas of liquidation functions, namely: —\n",
      "(i) taking over assets;\n",
      "(ii) examination of the statement of affairs;\n",
      "(iii) recovery of property, cash or any other assets of the company including benefits derived therefrom;\n",
      "(iv) review of audit reports and accounts of the company;\n",
      "(v) sale of assets;\n",
      "(vi) finalisation of list of creditors and contributories;\n",
      "(vii) compromise, abandonment and settlement of claims;\n",
      "(viii) payment of dividends, if any; and\n",
      "(ix) any other function, as the Tribunal may direct from time to time.\n",
      "(6) The Company Liquidator shall place before the Tribunal a report along with minutes of the meetings of the committee on monthly basis duly signed by the members present in the meeting for consideration till the final report for dissolution of the company is submitted before the Tribunal.\n",
      "(7) The Company Liquidator shall prepare the draft final report for consideration and approval of the winding up committee.\n",
      "(8) The final report so approved by the winding up committee shall be submitted by the Company Liquidator before the Tribunal for passing of a dissolution order in respect of the company. \n",
      "\n",
      "======\n",
      "\n",
      " The process for winding up a company, as specified in the Companies Act 2013 and further clarified by the new context, consists of multiple stages. These include:\n",
      "\n",
      "1. Circumstances for winding up by the Tribunal: The company may be wound up if it is unable to pay its debts or has acted against the interests of India, among other scenarios (as per Section 271).\n",
      "\n",
      "2. Intimation and notification: Before passing any order, the Tribunal must provide an opportunity for hearing to the provisional liquidator or Company Liquidator (Section 168(4) and Section 277).\n",
      "\n",
      "3. Application for constitution of a winding up committee: Within three weeks from the date of passing of the winding-up order, the Company Liquidator must apply to the Tribunal for constituting a winding up committee to assist in liquidation proceedings (Section 277(4)).\n",
      "\n",
      "4. Functions of the winding up committee: The committee assists and monitors the progress of liquidation proceedings in areas like taking over assets, examining statements of affairs, and sale of assets, among others (Section 277(5)).\n",
      "\n",
      "5. Reporting to the Tribunal: The Company Liquidator must submit a report along with minutes of meetings of the committee on a monthly basis before finalizing the company's dissolution (Section 277(6) and Section 277(7)).\n",
      "\n",
      "6. Final report submission: After approval by the winding up committee, the Company Liquidator submits the final report to the Tribunal for passing of a dissolution order (Section 277(8)). \n",
      "\n",
      "======\n",
      "\n",
      " 172: A director or manager shall not be liable to make further contribution unless the Tribunal deems it necessary to require the contribution in order to satisfy the debts and liabilities of the company, and the costs, charges, and expenses of the winding up.\n",
      "\n",
      "287: The Tribunal may direct that there be an advisory committee to advise the Company Liquidator and to report to the Tribunal on such matters as it may direct. This committee shall consist of not more than twelve members, being creditors and contributories of the company or such other persons in such proportion as the Tribunal deems fit. The Company Liquidator shall convene a meeting for enabling the Tribunal to determine the persons who may be members of the advisory committee within thirty days from the date of the order of winding up. The advisory committee has the right to inspect the books of account and other documents, assets, and properties of the company under liquidation at a reasonable time. The provisions relating to convening meetings, procedure to be followed thereat, and other matters will be such as may be prescribed. The meeting of the advisory committee shall be chaired by the Company Liquidator.\n",
      "\n",
      "288: The Company Liquidator shall make periodical reports to the Tribunal with respect to the progress of the winding up of the company in such form and manner as may be prescribed, and they must report at the end of each quarter. The Tribunal may, on an application by the Company Liquidator, review the orders made by it and make such modifications as it thinks fit.\n",
      "\n",
      "289: The Tribunal may make an order that it is just and fair to provide an opportunity to revive and rehabilitate the company staying the proceedings for such time but not exceeding one hundred and eighty days and on such terms and conditions as it thinks fit. This order can be made at any time after making a winding up order, on application by promoters, shareholders, creditors, or any other interested person if satisfied. The Tribunal may require the applicant to furnish security as it considers fit for costs. Where an order under sub-section (1) is passed, the provisions of Chapter XIX shall be followed in respect of the consideration and sanction of the scheme of revival of the company.\n",
      "\n",
      "290: Subject to directions by the Tribunal, if any, the Company Liquidator, in a winding up of a company by the Tribunal, shall have the power to take all actions necessary for the effective winding up of the company including, but not limited to, the following: (a) to ascertain and realize the assets of the company; (b) to administer and distribute the assets of the company in satisfaction of the debts and liabilities of the company; (c) to convene meetings of creditors and shareholders; (d) to investigate into the affairs of the company; (e) to perform such other duties as may be prescribed. \n",
      "\n",
      "======\n",
      "\n",
      " The process for winding up a company, as specified in the Companies Act 2013 and further clarified by the new context, consists of multiple stages. These include:\n",
      "\n",
      "1. Circumstances for winding up by the Tribunal: The company may be wound up if it is unable to pay its debts or has acted against the interests of India, among other scenarios (as per Section 271).\n",
      "\n",
      "2. Intimation and notification: Before passing any order, the Tribunal must provide an opportunity for hearing to the provisional liquidator or Company Liquidator (Section 168(4) and Section 277).\n",
      "\n",
      "3. Application for constitution of a winding up committee: Within three weeks from the date of passing of the winding-up order, the Company Liquidator must apply to the Tribunal for constituting a winding up committee to assist in liquidation proceedings (Section 277(4)).\n",
      "\n",
      "4. Functions of the winding up committee: The committee assists and monitors the progress of liquidation proceedings in areas like taking over assets, examining statements of affairs, and sale of assets, among others (Section 277(5)).\n",
      "\n",
      "5. Reporting to the Tribunal: The Company Liquidator must submit a report along with minutes of meetings of the committee on a monthly basis before finalizing the company's dissolution (Section 277(6) and Section 277(7)).\n",
      "\n",
      "6. Final report submission: After approval by the winding up committee, the Company Liquidator submits the final report to the Tribunal for passing of a dissolution order (Section 277(8)).\n",
      "\n",
      "Additionally, under the new context, the Tribunal may direct that there be an advisory committee to advise the Company Liquidator and to report to the Tribunal on such matters as it may direct (Section 287). The Company Liquidator shall make periodical reports to the Tribunal with respect to the progress of the winding up of the company in such form and manner as may be prescribed, and they must report at the end of each quarter (Section 288). The Tribunal may also consider providing an opportunity to revive and rehabilitate the company (Sections 289 and 290(1)). \n",
      "\n",
      "======\n",
      "\n",
      " This excerpt from the Companies Act 2013 discusses the insolvency rules and rights of secured and unsecured creditors in the winding up of an insolvent company. The text mentions that the same rules apply to the valuation of annuities and future and contingent liabilities, as well as the rights of secured and unsecured creditors. In cases where a secured creditor opts to realize his security instead of proving his debts, the liquidator is entitled to represent the workmen and enforce the charge in favor of the workmen's portion. The provision also states that the expenses incurred by the liquidator for the preservation of the security before its realization must be paid by the secured creditor, with a specific formula to determine the proportion of the expenses to be covered. Workers' dues are defined as wages, holiday remuneration, and compensation under certain provisions of the Industrial Disputes Act, 1947. \n",
      "\n",
      "======\n",
      "\n",
      " The process for winding up a company involves multiple stages as specified in the Companies Act 2013 and further clarified by the new context. These include:\n",
      "\n",
      "1. Circumstances for winding up by the Tribunal: The company may be wound up if it is unable to pay its debts or has acted against the interests of India, among other scenarios (as per Section 271).\n",
      "\n",
      "2. Intimation and notification: Before passing any order, the Tribunal must provide an opportunity for hearing to the provisional liquidator or Company Liquidator (Section 168(4) and Section 277).\n",
      "\n",
      "3. Application for constitution of a winding up committee: Within three weeks from the date of passing of the winding-up order, the Company Liquidator must apply to the Tribunal for constituting a winding up committee to assist in liquidation proceedings (Section 277(4)).\n",
      "\n",
      "4. Functions of the winding up committee: The committee assists and monitors the progress of liquidation proceedings in areas like taking over assets, examining statements of affairs, and sale of assets, among others (Section 277(5)).\n",
      "\n",
      "5. Reporting to the Tribunal: The Company Liquidator must submit a report along with minutes of meetings of the committee on a monthly basis before finalizing the company's dissolution (Section 277(6) and Section 277(7)).\n",
      "\n",
      "6. Final report submission: After approval by the winding up committee, the Company Liquidator submits the final report to the Tribunal for passing of a dissolution order (Section 277(8)).\n",
      "\n",
      "Additionally, under the new context, the Tribunal may direct that there be an advisory committee to advise the Company Liquidator and to report to the Tribunal on such matters as it may direct (Section 287). The Company Liquidator shall make periodical reports to the Tribunal with respect to the progress of the winding up of the company in such form and manner as may be prescribed, and they must report at the end of each quarter (Section 288). The Tribunal may also consider providing an opportunity to revive and rehabilitate the company (Sections 289 and 290(1)).\n",
      "\n",
      "Furthermore, in cases where a secured creditor opts to realize his security instead of proving his debts, the liquidator is entitled to represent the workmen and enforce the charge in favor of the workmen's portion. The provision also states that the expenses incurred by the liquidator for the preservation of the security before its realization must be paid by the secured creditor, with a specific formula to determine the proportion of the expenses to be covered. Workers' dues are defined as wages, holiday remuneration, and compensation under certain provisions of the Industrial Disputes Act, 1947. \n",
      "\n",
      "======\n",
      "\n",
      " 1. According to Section 182 of the Companies Act, any shareholder or member in a company can apply for an order against the liquidator if they feel that the liquidator is not carrying out the resolution properly, and this application should be made within seven days after the passing of the resolution.\n",
      "   \n",
      "   2. According to Section 319(1) of the Companies Act, any member of a company who has an interest in the property of the company may require the liquidator to purchase such interest at a price determined by agreement or the registered valuer. If the liquidator decides to purchase the interest, the purchase money should be raised and paid before the company is dissolved.\n",
      "    \n",
      "   3. According to Section 320 of the Companies Act, if the company is in the course of winding up, the assets of a company shall first be applied in satisfaction of its liabilities pari passu and then distributed among the members according to their rights and interests in the company, unless the articles otherwise provide.\n",
      "    \n",
      "   4. According to Section 321(1) of the Companies Act, any arrangement entered into between the company which is about to be wound up and its creditors shall be binding on the company and on the creditors if it is sanctioned by a special resolution of the company and acceded to by the creditors who hold three-fourths in value of the total amount due to all the creditors of the company.\n",
      "    \n",
      "   5. According to Section 324 of the Companies Act, all debts payable on a contingency and all claims against the company, present or future, certain or contingent, ascertained or sounding only in damages shall be admissible to proof against the company. A just estimate should be made, so far as possible, of the value of such debts or claims if they are subject to any contingency or may sound only in damages, or for some other reason may not bear a certain value. \n",
      "\n",
      "======\n",
      "\n",
      " The process for winding up a company, as per the Companies Act 2013 and new context, involves multiple stages. Firstly, there are circumstances under which a company can be wound up by the Tribunal, such as being unable to pay its debts or acting against the interests of India (Section 271).\n",
      "\n",
      "After notifying the parties involved, an application for constituting a winding-up committee must be submitted. The functions of this committee include monitoring and assisting in liquidation proceedings, among other tasks. Reports to the Tribunal must be submitted regularly, leading to the submission of a final report after approval by the winding up committee (Sections 277(4), 277(5), 277(6), 277(7), and 277(8)).\n",
      "\n",
      "The new context highlights that there are several provisions related to shareholders, members, creditors, and other stakeholders. For example, a liquidator may be held accountable by shareholders or members if they feel the resolution is not properly executed (Section 182). Moreover, a company's assets should first be applied in satisfaction of its liabilities and then distributed among the members according to their rights and interests (Section 320).\n",
      "\n",
      "Additionally, arrangements between a winding-up company and creditors can be binding if sanctioned by a special resolution of the company and acceded to by the creditors holding three-fourths in value of the total amount due to all the creditors of the company (Section 321(1)). Debts payable on contingencies and claims against the company should be admissible to proof, with just estimates made for debts or claims subject to any contingency (Section 324). \n",
      "\n",
      "======\n",
      "\n",
      " The process for winding up a company involves the following steps:\n",
      "\n",
      "1. Circumstances for winding up by the Tribunal: A company may be wound up if it is unable to pay its debts or has acted against the interests of India, among other scenarios (as per Section 271).\n",
      "\n",
      "2. Intimation and notification: Before passing any order, the Tribunal must provide an opportunity for hearing to the provisional liquidator or Company Liquidator (Section 168(4) and Section 277).\n",
      "\n",
      "3. Application for constitution of a winding up committee: Within three weeks from the date of passing of the winding-up order, the Company Liquidator must apply to the Tribunal for constituting a winding up committee to assist in liquidation proceedings (Section 277(4)).\n",
      "\n",
      "4. Functions of the winding up committee: The committee assists and monitors the progress of liquidation proceedings in areas like taking over assets, examining statements of affairs, and sale of assets, among others (Section 277(5)).\n",
      "\n",
      "5. Reporting to the Tribunal: The Company Liquidator must submit a report along with minutes of meetings of the committee on a monthly basis before finalizing the company's dissolution (Section 277(6) and Section 277(7)).\n",
      "\n",
      "6. Final report submission: After approval by the winding up committee, the Company Liquidator submits the final report to the Tribunal for passing of a dissolution order (Section 277(8)).\n",
      "\n",
      "Additionally, under the new context, the Tribunal may direct that there be an advisory committee to advise the Company Liquidator and to report to the Tribunal on such matters as it may direct (Section 287). The Company Liquidator shall make periodical reports to the Tribunal with respect to the progress of the winding up of the company in such form and manner as may be prescribed, and they must report at the end of each quarter (Section 288). The Tribunal may also consider providing an opportunity to revive and rehabilitate the company (Sections 289 and 290(1)).\n",
      "\n",
      "Furthermore, in cases where a secured creditor opts to realize his security instead of proving his debts, the liquidator is entitled to represent the workmen and enforce the charge in favor of the workmen's portion. The provision also states that the expenses incurred by the company for its work should be admirable to proof against the company (Section 324). \n",
      "\n",
      "======\n",
      "\n"
     ]
    }
   ],
   "source": [
    "for answer in agent.run_model.get_answerpad():\n",
    "    print(answer, \"\\n\\n======\\n\")"
   ]
  },
  {
   "cell_type": "code",
   "execution_count": null,
   "metadata": {},
   "outputs": [],
   "source": [
    "from agent.actions import compile_answer\n",
    "\n",
    "answer = compile_answer(agent.run_model, agent_settings)"
   ]
  }
 ],
 "metadata": {
  "kernelspec": {
   "display_name": "OpenAI@3111",
   "language": "python",
   "name": "python3"
  },
  "language_info": {
   "codemirror_mode": {
    "name": "ipython",
    "version": 3
   },
   "file_extension": ".py",
   "mimetype": "text/x-python",
   "name": "python",
   "nbconvert_exporter": "python",
   "pygments_lexer": "ipython3",
   "version": "3.11.4"
  }
 },
 "nbformat": 4,
 "nbformat_minor": 2
}
